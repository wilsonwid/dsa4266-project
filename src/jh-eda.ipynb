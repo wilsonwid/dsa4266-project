{
 "cells": [
  {
   "metadata": {},
   "cell_type": "markdown",
   "source": "## AI Deepfake Detection - EDA",
   "id": "d6163b6ba6250e41"
  },
  {
   "metadata": {},
   "cell_type": "markdown",
   "source": "## Imports",
   "id": "db83e60cfda3f975"
  },
  {
   "metadata": {
    "ExecuteTime": {
     "end_time": "2024-09-21T12:01:20.462871Z",
     "start_time": "2024-09-21T12:01:20.457649Z"
    }
   },
   "cell_type": "code",
   "source": [
    "import pandas as pd\n",
    "import json\n",
    "import os\n",
    "from IPython.display import Video"
   ],
   "id": "ee95849cc4f64a22",
   "outputs": [],
   "execution_count": 34
  },
  {
   "metadata": {},
   "cell_type": "markdown",
   "source": "## Load the training data",
   "id": "52be59ba8a1584f5"
  },
  {
   "metadata": {
    "ExecuteTime": {
     "end_time": "2024-09-21T11:57:39.095695Z",
     "start_time": "2024-09-21T11:57:39.089685Z"
    }
   },
   "cell_type": "code",
   "source": [
    "# Helper functions\n",
    "def load_metadata(metadata_path):\n",
    "    \"\"\"Load metadata from a JSON file and return a DataFrame.\"\"\"\n",
    "    with open(metadata_path) as f:\n",
    "        metadata = json.load(f)\n",
    "    df = pd.DataFrame.from_dict(metadata, orient='index')\n",
    "    df.reset_index(inplace=True)\n",
    "    df.rename(columns={'index': 'video_filename'}, inplace=True)\n",
    "    return df\n",
    "\n",
    "def play_video(video_filename, video_folder='../data/train_sample_videos'):\n",
    "    \"\"\"Play a video given its filename.\"\"\"\n",
    "    video_path = os.path.join(video_folder, video_filename)\n",
    "    if os.path.exists(video_path):\n",
    "        return Video(video_path,width=320, height=320)\n",
    "    else:\n",
    "        print(f\"Video file {video_filename} does not exist.\")"
   ],
   "id": "23bd324fea2b32c7",
   "outputs": [],
   "execution_count": 32
  },
  {
   "metadata": {
    "ExecuteTime": {
     "end_time": "2024-09-21T11:39:25.428699Z",
     "start_time": "2024-09-21T11:39:25.409529Z"
    }
   },
   "cell_type": "code",
   "source": [
    "    # Set the path for the metadata file\n",
    "    metadata_path = '../data/train_sample_videos/metadata.json'\n",
    "\n",
    "    # Load metadata into a DataFrame\n",
    "    df = load_metadata(metadata_path)"
   ],
   "id": "3a63cef512d7e60a",
   "outputs": [],
   "execution_count": 5
  },
  {
   "metadata": {
    "ExecuteTime": {
     "end_time": "2024-09-21T11:39:28.706450Z",
     "start_time": "2024-09-21T11:39:28.688401Z"
    }
   },
   "cell_type": "code",
   "source": "df",
   "id": "8469c46d36a84c7a",
   "outputs": [
    {
     "data": {
      "text/plain": [
       "     video_filename label  split        original\n",
       "0    aagfhgtpmv.mp4  FAKE  train  vudstovrck.mp4\n",
       "1    aapnvogymq.mp4  FAKE  train  jdubbvfswz.mp4\n",
       "2    abarnvbtwb.mp4  REAL  train            None\n",
       "3    abofeumbvv.mp4  FAKE  train  atvmxvwyns.mp4\n",
       "4    abqwwspghj.mp4  FAKE  train  qzimuostzz.mp4\n",
       "..              ...   ...    ...             ...\n",
       "395  etejaapnxh.mp4  FAKE  train  wtreibcmgm.mp4\n",
       "396  etmcruaihe.mp4  FAKE  train  afoovlsmtx.mp4\n",
       "397  etohcvnzbj.mp4  FAKE  train  bdnaqemxmr.mp4\n",
       "398  eudeqjhdfd.mp4  REAL  train            None\n",
       "399  eukvucdetx.mp4  FAKE  train  gjypopglvi.mp4\n",
       "\n",
       "[400 rows x 4 columns]"
      ],
      "text/html": [
       "<div>\n",
       "<style scoped>\n",
       "    .dataframe tbody tr th:only-of-type {\n",
       "        vertical-align: middle;\n",
       "    }\n",
       "\n",
       "    .dataframe tbody tr th {\n",
       "        vertical-align: top;\n",
       "    }\n",
       "\n",
       "    .dataframe thead th {\n",
       "        text-align: right;\n",
       "    }\n",
       "</style>\n",
       "<table border=\"1\" class=\"dataframe\">\n",
       "  <thead>\n",
       "    <tr style=\"text-align: right;\">\n",
       "      <th></th>\n",
       "      <th>video_filename</th>\n",
       "      <th>label</th>\n",
       "      <th>split</th>\n",
       "      <th>original</th>\n",
       "    </tr>\n",
       "  </thead>\n",
       "  <tbody>\n",
       "    <tr>\n",
       "      <th>0</th>\n",
       "      <td>aagfhgtpmv.mp4</td>\n",
       "      <td>FAKE</td>\n",
       "      <td>train</td>\n",
       "      <td>vudstovrck.mp4</td>\n",
       "    </tr>\n",
       "    <tr>\n",
       "      <th>1</th>\n",
       "      <td>aapnvogymq.mp4</td>\n",
       "      <td>FAKE</td>\n",
       "      <td>train</td>\n",
       "      <td>jdubbvfswz.mp4</td>\n",
       "    </tr>\n",
       "    <tr>\n",
       "      <th>2</th>\n",
       "      <td>abarnvbtwb.mp4</td>\n",
       "      <td>REAL</td>\n",
       "      <td>train</td>\n",
       "      <td>None</td>\n",
       "    </tr>\n",
       "    <tr>\n",
       "      <th>3</th>\n",
       "      <td>abofeumbvv.mp4</td>\n",
       "      <td>FAKE</td>\n",
       "      <td>train</td>\n",
       "      <td>atvmxvwyns.mp4</td>\n",
       "    </tr>\n",
       "    <tr>\n",
       "      <th>4</th>\n",
       "      <td>abqwwspghj.mp4</td>\n",
       "      <td>FAKE</td>\n",
       "      <td>train</td>\n",
       "      <td>qzimuostzz.mp4</td>\n",
       "    </tr>\n",
       "    <tr>\n",
       "      <th>...</th>\n",
       "      <td>...</td>\n",
       "      <td>...</td>\n",
       "      <td>...</td>\n",
       "      <td>...</td>\n",
       "    </tr>\n",
       "    <tr>\n",
       "      <th>395</th>\n",
       "      <td>etejaapnxh.mp4</td>\n",
       "      <td>FAKE</td>\n",
       "      <td>train</td>\n",
       "      <td>wtreibcmgm.mp4</td>\n",
       "    </tr>\n",
       "    <tr>\n",
       "      <th>396</th>\n",
       "      <td>etmcruaihe.mp4</td>\n",
       "      <td>FAKE</td>\n",
       "      <td>train</td>\n",
       "      <td>afoovlsmtx.mp4</td>\n",
       "    </tr>\n",
       "    <tr>\n",
       "      <th>397</th>\n",
       "      <td>etohcvnzbj.mp4</td>\n",
       "      <td>FAKE</td>\n",
       "      <td>train</td>\n",
       "      <td>bdnaqemxmr.mp4</td>\n",
       "    </tr>\n",
       "    <tr>\n",
       "      <th>398</th>\n",
       "      <td>eudeqjhdfd.mp4</td>\n",
       "      <td>REAL</td>\n",
       "      <td>train</td>\n",
       "      <td>None</td>\n",
       "    </tr>\n",
       "    <tr>\n",
       "      <th>399</th>\n",
       "      <td>eukvucdetx.mp4</td>\n",
       "      <td>FAKE</td>\n",
       "      <td>train</td>\n",
       "      <td>gjypopglvi.mp4</td>\n",
       "    </tr>\n",
       "  </tbody>\n",
       "</table>\n",
       "<p>400 rows × 4 columns</p>\n",
       "</div>"
      ]
     },
     "execution_count": 6,
     "metadata": {},
     "output_type": "execute_result"
    }
   ],
   "execution_count": 6
  },
  {
   "metadata": {
    "ExecuteTime": {
     "end_time": "2024-09-21T12:01:23.529859Z",
     "start_time": "2024-09-21T12:01:23.523672Z"
    }
   },
   "cell_type": "code",
   "source": "play_video(\"aapnvogymq.mp4\")",
   "id": "775414f5f148390f",
   "outputs": [
    {
     "data": {
      "text/plain": [
       "<IPython.core.display.Video object>"
      ],
      "text/html": [
       "<video src=\"../data/train_sample_videos\\aapnvogymq.mp4\" controls  width=\"320\"  height=\"320\">\n",
       "      Your browser does not support the <code>video</code> element.\n",
       "    </video>"
      ]
     },
     "execution_count": 35,
     "metadata": {},
     "output_type": "execute_result"
    }
   ],
   "execution_count": 35
  }
 ],
 "metadata": {
  "kernelspec": {
   "display_name": "Python 3",
   "language": "python",
   "name": "python3"
  },
  "language_info": {
   "codemirror_mode": {
    "name": "ipython",
    "version": 2
   },
   "file_extension": ".py",
   "mimetype": "text/x-python",
   "name": "python",
   "nbconvert_exporter": "python",
   "pygments_lexer": "ipython2",
   "version": "2.7.6"
  }
 },
 "nbformat": 4,
 "nbformat_minor": 5
}
