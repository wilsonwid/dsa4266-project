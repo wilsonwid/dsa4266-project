{
 "cells": [
  {
   "cell_type": "markdown",
   "id": "d6163b6ba6250e41",
   "metadata": {},
   "source": [
    "## AI Deepfake Detection - EDA"
   ]
  },
  {
   "cell_type": "markdown",
   "id": "db83e60cfda3f975",
   "metadata": {},
   "source": [
    "## Imports"
   ]
  },
  {
   "cell_type": "code",
   "id": "ee95849cc4f64a22",
   "metadata": {
    "ExecuteTime": {
     "end_time": "2024-09-22T15:10:23.727295Z",
     "start_time": "2024-09-22T15:09:56.968020Z"
    }
   },
   "source": [
    "import pandas as pd\n",
    "import json\n",
    "import os\n",
    "from IPython.display import Video\n",
    "\n",
    "import pandas as pd\n",
    "import seaborn as sns\n",
    "import matplotlib.pyplot as plt"
   ],
   "outputs": [],
   "execution_count": 9
  },
  {
   "metadata": {},
   "cell_type": "markdown",
   "source": "### Exploratory Data Analysis (EDA)",
   "id": "7bc9c0053a086b77"
  },
  {
   "metadata": {
    "ExecuteTime": {
     "end_time": "2024-09-22T15:10:30.534156Z",
     "start_time": "2024-09-22T15:10:30.529099Z"
    }
   },
   "cell_type": "code",
   "outputs": [],
   "execution_count": 10,
   "source": [
    "# Helper functions to load data/video\n",
    "def load_metadata(metadata_path):\n",
    "    \"\"\"Load metadata from a JSON file and return a DataFrame.\"\"\"\n",
    "    with open(metadata_path) as f:\n",
    "        metadata = json.load(f)\n",
    "    df = pd.DataFrame.from_dict(metadata, orient='index')\n",
    "    df.reset_index(inplace=True)\n",
    "    df.rename(columns={'index': 'video_filename'}, inplace=True)\n",
    "    return df\n",
    "\n",
    "def play_video(video_filename, video_folder='../data/train_sample_videos'):\n",
    "    \"\"\"Play a video given its filename.\"\"\"\n",
    "    video_path = os.path.join(video_folder, video_filename)\n",
    "    if os.path.exists(video_path):\n",
    "        return Video(video_path,width=320, height=320)\n",
    "    else:\n",
    "        print(f\"Video file {video_filename} does not exist.\")"
   ],
   "id": "23bd324fea2b32c7"
  },
  {
   "metadata": {
    "ExecuteTime": {
     "end_time": "2024-09-22T15:10:55.693554Z",
     "start_time": "2024-09-22T15:10:55.682167Z"
    }
   },
   "cell_type": "code",
   "source": [
    "## Load the training and test set\n",
    "train_metadata_path = '../data/train_sample_videos/metadata.json'\n",
    "train_metadata_df = load_metadata(train_metadata_path)\n",
    "train_metadata_df"
   ],
   "id": "dd3b56a66197c0fd",
   "outputs": [
    {
     "data": {
      "text/plain": [
       "     video_filename label  split        original\n",
       "0    aagfhgtpmv.mp4  FAKE  train  vudstovrck.mp4\n",
       "1    aapnvogymq.mp4  FAKE  train  jdubbvfswz.mp4\n",
       "2    abarnvbtwb.mp4  REAL  train            None\n",
       "3    abofeumbvv.mp4  FAKE  train  atvmxvwyns.mp4\n",
       "4    abqwwspghj.mp4  FAKE  train  qzimuostzz.mp4\n",
       "..              ...   ...    ...             ...\n",
       "395  etejaapnxh.mp4  FAKE  train  wtreibcmgm.mp4\n",
       "396  etmcruaihe.mp4  FAKE  train  afoovlsmtx.mp4\n",
       "397  etohcvnzbj.mp4  FAKE  train  bdnaqemxmr.mp4\n",
       "398  eudeqjhdfd.mp4  REAL  train            None\n",
       "399  eukvucdetx.mp4  FAKE  train  gjypopglvi.mp4\n",
       "\n",
       "[400 rows x 4 columns]"
      ],
      "text/html": [
       "<div>\n",
       "<style scoped>\n",
       "    .dataframe tbody tr th:only-of-type {\n",
       "        vertical-align: middle;\n",
       "    }\n",
       "\n",
       "    .dataframe tbody tr th {\n",
       "        vertical-align: top;\n",
       "    }\n",
       "\n",
       "    .dataframe thead th {\n",
       "        text-align: right;\n",
       "    }\n",
       "</style>\n",
       "<table border=\"1\" class=\"dataframe\">\n",
       "  <thead>\n",
       "    <tr style=\"text-align: right;\">\n",
       "      <th></th>\n",
       "      <th>video_filename</th>\n",
       "      <th>label</th>\n",
       "      <th>split</th>\n",
       "      <th>original</th>\n",
       "    </tr>\n",
       "  </thead>\n",
       "  <tbody>\n",
       "    <tr>\n",
       "      <th>0</th>\n",
       "      <td>aagfhgtpmv.mp4</td>\n",
       "      <td>FAKE</td>\n",
       "      <td>train</td>\n",
       "      <td>vudstovrck.mp4</td>\n",
       "    </tr>\n",
       "    <tr>\n",
       "      <th>1</th>\n",
       "      <td>aapnvogymq.mp4</td>\n",
       "      <td>FAKE</td>\n",
       "      <td>train</td>\n",
       "      <td>jdubbvfswz.mp4</td>\n",
       "    </tr>\n",
       "    <tr>\n",
       "      <th>2</th>\n",
       "      <td>abarnvbtwb.mp4</td>\n",
       "      <td>REAL</td>\n",
       "      <td>train</td>\n",
       "      <td>None</td>\n",
       "    </tr>\n",
       "    <tr>\n",
       "      <th>3</th>\n",
       "      <td>abofeumbvv.mp4</td>\n",
       "      <td>FAKE</td>\n",
       "      <td>train</td>\n",
       "      <td>atvmxvwyns.mp4</td>\n",
       "    </tr>\n",
       "    <tr>\n",
       "      <th>4</th>\n",
       "      <td>abqwwspghj.mp4</td>\n",
       "      <td>FAKE</td>\n",
       "      <td>train</td>\n",
       "      <td>qzimuostzz.mp4</td>\n",
       "    </tr>\n",
       "    <tr>\n",
       "      <th>...</th>\n",
       "      <td>...</td>\n",
       "      <td>...</td>\n",
       "      <td>...</td>\n",
       "      <td>...</td>\n",
       "    </tr>\n",
       "    <tr>\n",
       "      <th>395</th>\n",
       "      <td>etejaapnxh.mp4</td>\n",
       "      <td>FAKE</td>\n",
       "      <td>train</td>\n",
       "      <td>wtreibcmgm.mp4</td>\n",
       "    </tr>\n",
       "    <tr>\n",
       "      <th>396</th>\n",
       "      <td>etmcruaihe.mp4</td>\n",
       "      <td>FAKE</td>\n",
       "      <td>train</td>\n",
       "      <td>afoovlsmtx.mp4</td>\n",
       "    </tr>\n",
       "    <tr>\n",
       "      <th>397</th>\n",
       "      <td>etohcvnzbj.mp4</td>\n",
       "      <td>FAKE</td>\n",
       "      <td>train</td>\n",
       "      <td>bdnaqemxmr.mp4</td>\n",
       "    </tr>\n",
       "    <tr>\n",
       "      <th>398</th>\n",
       "      <td>eudeqjhdfd.mp4</td>\n",
       "      <td>REAL</td>\n",
       "      <td>train</td>\n",
       "      <td>None</td>\n",
       "    </tr>\n",
       "    <tr>\n",
       "      <th>399</th>\n",
       "      <td>eukvucdetx.mp4</td>\n",
       "      <td>FAKE</td>\n",
       "      <td>train</td>\n",
       "      <td>gjypopglvi.mp4</td>\n",
       "    </tr>\n",
       "  </tbody>\n",
       "</table>\n",
       "<p>400 rows × 4 columns</p>\n",
       "</div>"
      ]
     },
     "execution_count": 14,
     "metadata": {},
     "output_type": "execute_result"
    }
   ],
   "execution_count": 14
  },
  {
   "metadata": {
    "ExecuteTime": {
     "end_time": "2024-09-22T15:19:54.233920Z",
     "start_time": "2024-09-22T15:19:54.219551Z"
    }
   },
   "cell_type": "code",
   "source": [
    "# Distribution of real vs fake\n",
    "def plot_label_distribution(df):\n",
    "    \"\"\"Plot the percentage distribution of real and fake videos, showing both percentage and raw counts.\"\"\"\n",
    "\n",
    "    # Calculate the raw counts and percentages\n",
    "    label_counts = df['label'].value_counts()\n",
    "    label_percentages = df['label'].value_counts(normalize=True) * 100\n",
    "\n",
    "    # Create a DataFrame to combine both counts and percentages\n",
    "    label_df = pd.DataFrame({'Count': label_counts, 'Percentage': label_percentages})\n",
    "\n",
    "    # Plot the counts\n",
    "    plt.figure(figsize=(6, 6))\n",
    "    ax = sns.barplot(hue=label_df.index, x=label_df.index, \n",
    "                     y=label_df['Count'], palette='coolwarm',\n",
    "                     legend=False)\n",
    "\n",
    "    # Add labels with both raw counts and percentages\n",
    "    for i in ax.containers:\n",
    "        ax.bar_label(i, labels=[f'{v.get_height():,.0f} ({v.get_height()/label_counts.sum()*100:.1f}%)' for v in i])\n",
    "\n",
    "    # Set plot titles and labels\n",
    "    plt.title('Distribution of Real vs Fake Videos')\n",
    "    plt.xlabel('Video Label')\n",
    "    plt.ylabel('Count')\n",
    "    plt.show()"
   ],
   "id": "6a55d3c7b0f9b1fa",
   "outputs": [],
   "execution_count": 35
  },
  {
   "metadata": {
    "ExecuteTime": {
     "end_time": "2024-09-22T15:19:56.100053Z",
     "start_time": "2024-09-22T15:19:55.997946Z"
    }
   },
   "cell_type": "code",
   "source": "plot_label_distribution(train_metadata_df)",
   "id": "96414e800664c61c",
   "outputs": [
    {
     "data": {
      "text/plain": [
       "<Figure size 600x600 with 1 Axes>"
      ],
      "image/png": "[encoded data removed]"
     },
     "metadata": {},
     "output_type": "display_data"
    }
   ],
   "execution_count": 36
  },
  {
   "metadata": {},
   "cell_type": "markdown",
   "source": "Currently, the metadata file is quite limited, only telling us the video name and the label of the video, which will help us in training our model. However, we also want to take a look at metadata about the videos themselves, so we will write some code to get this information out.",
   "id": "f220affabcae2a3c"
  }
 ],
 "metadata": {
  "kernelspec": {
   "display_name": "Python 3 (ipykernel)",
   "language": "python",
   "name": "python3"
  },
  "language_info": {
   "codemirror_mode": {
    "name": "ipython",
    "version": 3
   },
   "file_extension": ".py",
   "mimetype": "text/x-python",
   "name": "python",
   "nbconvert_exporter": "python",
   "pygments_lexer": "ipython3",
   "version": "3.11.8"
  }
 },
 "nbformat": 4,
 "nbformat_minor": 5
}
