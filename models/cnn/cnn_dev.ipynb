{
 "cells": [
  {
   "cell_type": "markdown",
   "id": "a3bd2fac9922e9b",
   "metadata": {},
   "source": [
    "## Imports"
   ]
  },
  {
   "cell_type": "code",
   "execution_count": 3,
   "id": "39e1aca5-5e87-43bf-9c20-4ee93b30e012",
   "metadata": {},
   "outputs": [
    {
     "name": "stdout",
     "output_type": "stream",
     "text": [
      "/bin/bash: pip: command not found\n",
      "/bin/bash: pip: command not found\n",
      "/bin/bash: pip: command not found\n",
      "/bin/bash: pip: command not found\n",
      "/bin/bash: pip: command not found\n",
      "/bin/bash: pip: command not found\n"
     ]
    }
   ],
   "source": [
    "!pip install scikeras\n",
    "!pip install pandas\n",
    "!pip install matplotlib\n",
    "!pip install statsmodels\n",
    "!pip install opencv-python\n",
    "!pip install keras-tuner"
   ]
  },
  {
   "cell_type": "code",
   "execution_count": 1,
   "id": "ea8fd990255b982b",
   "metadata": {
    "ExecuteTime": {
     "end_time": "2024-11-02T03:34:16.637349Z",
     "start_time": "2024-11-02T03:34:10.395191Z"
    }
   },
   "outputs": [],
   "source": [
    "import os\n",
    "import cv2\n",
    "import json\n",
    "import pandas as pd\n",
    "import tensorflow as tf\n",
    "import numpy as np\n",
    "from tensorflow.keras.models import Sequential\n",
    "from tensorflow.keras.layers import Conv2D, MaxPooling2D, Flatten, Dense, Dropout, TimeDistributed\n",
    "from sklearn.metrics import confusion_matrix, ConfusionMatrixDisplay, classification_report\n",
    "from keras_tuner.tuners import RandomSearch\n",
    "import matplotlib.pyplot as plt\n",
    "from tensorflow.keras.optimizers import Adam\n",
    "from tensorflow.keras.models import load_model\n",
    "from sklearn.metrics import roc_curve, auc\n",
    "from tensorflow.keras.callbacks import CSVLogger"
   ]
  },
  {
   "cell_type": "code",
   "execution_count": 2,
   "id": "d8282956-4fe4-4ed0-8c68-10dc856ad85d",
   "metadata": {},
   "outputs": [
    {
     "name": "stdout",
     "output_type": "stream",
     "text": [
      "Num GPUs Available:  1\n",
      "1 Physical GPUs, 1 Logical GPUs\n"
     ]
    },
    {
     "name": "stderr",
     "output_type": "stream",
     "text": [
      "2024-11-01 06:05:19.412221: I tensorflow/compiler/xla/stream_executor/cuda/cuda_gpu_executor.cc:995] successful NUMA node read from SysFS had negative value (-1), but there must be at least one NUMA node, so returning NUMA node zero. See more at https://github.com/torvalds/linux/blob/v6.0/Documentation/ABI/testing/sysfs-bus-pci#L344-L355\n",
      "2024-11-01 06:05:19.447697: I tensorflow/compiler/xla/stream_executor/cuda/cuda_gpu_executor.cc:995] successful NUMA node read from SysFS had negative value (-1), but there must be at least one NUMA node, so returning NUMA node zero. See more at https://github.com/torvalds/linux/blob/v6.0/Documentation/ABI/testing/sysfs-bus-pci#L344-L355\n",
      "2024-11-01 06:05:19.449388: I tensorflow/compiler/xla/stream_executor/cuda/cuda_gpu_executor.cc:995] successful NUMA node read from SysFS had negative value (-1), but there must be at least one NUMA node, so returning NUMA node zero. See more at https://github.com/torvalds/linux/blob/v6.0/Documentation/ABI/testing/sysfs-bus-pci#L344-L355\n",
      "2024-11-01 06:05:19.452542: I tensorflow/compiler/xla/stream_executor/cuda/cuda_gpu_executor.cc:995] successful NUMA node read from SysFS had negative value (-1), but there must be at least one NUMA node, so returning NUMA node zero. See more at https://github.com/torvalds/linux/blob/v6.0/Documentation/ABI/testing/sysfs-bus-pci#L344-L355\n",
      "2024-11-01 06:05:19.454180: I tensorflow/compiler/xla/stream_executor/cuda/cuda_gpu_executor.cc:995] successful NUMA node read from SysFS had negative value (-1), but there must be at least one NUMA node, so returning NUMA node zero. See more at https://github.com/torvalds/linux/blob/v6.0/Documentation/ABI/testing/sysfs-bus-pci#L344-L355\n",
      "2024-11-01 06:05:19.455761: I tensorflow/compiler/xla/stream_executor/cuda/cuda_gpu_executor.cc:995] successful NUMA node read from SysFS had negative value (-1), but there must be at least one NUMA node, so returning NUMA node zero. See more at https://github.com/torvalds/linux/blob/v6.0/Documentation/ABI/testing/sysfs-bus-pci#L344-L355\n",
      "2024-11-01 06:05:19.638651: I tensorflow/compiler/xla/stream_executor/cuda/cuda_gpu_executor.cc:995] successful NUMA node read from SysFS had negative value (-1), but there must be at least one NUMA node, so returning NUMA node zero. See more at https://github.com/torvalds/linux/blob/v6.0/Documentation/ABI/testing/sysfs-bus-pci#L344-L355\n",
      "2024-11-01 06:05:19.640420: I tensorflow/compiler/xla/stream_executor/cuda/cuda_gpu_executor.cc:995] successful NUMA node read from SysFS had negative value (-1), but there must be at least one NUMA node, so returning NUMA node zero. See more at https://github.com/torvalds/linux/blob/v6.0/Documentation/ABI/testing/sysfs-bus-pci#L344-L355\n",
      "2024-11-01 06:05:19.642024: I tensorflow/compiler/xla/stream_executor/cuda/cuda_gpu_executor.cc:995] successful NUMA node read from SysFS had negative value (-1), but there must be at least one NUMA node, so returning NUMA node zero. See more at https://github.com/torvalds/linux/blob/v6.0/Documentation/ABI/testing/sysfs-bus-pci#L344-L355\n",
      "2024-11-01 06:05:19.643589: I tensorflow/core/common_runtime/gpu/gpu_device.cc:1639] Created device /job:localhost/replica:0/task:0/device:GPU:0 with 13775 MB memory:  -> device: 0, name: Tesla T4, pci bus id: 0000:00:1e.0, compute capability: 7.5\n"
     ]
    }
   ],
   "source": [
    "# Check GPU\n",
    "import tensorflow as tf\n",
    "print(\"Num GPUs Available: \", len(tf.config.experimental.list_physical_devices('GPU')))\n",
    "# Configure TensorFlow to use the GPU\n",
    "gpus = tf.config.experimental.list_physical_devices('GPU')\n",
    "if gpus:\n",
    "    try:\n",
    "        # Currently, memory growth needs to be the same across GPUs\n",
    "        for gpu in gpus:\n",
    "            tf.config.experimental.set_memory_growth(gpu, True)\n",
    "        logical_gpus = tf.config.experimental.list_logical_devices('GPU')\n",
    "        print(len(gpus), \"Physical GPUs,\", len(logical_gpus), \"Logical GPUs\")\n",
    "    except RuntimeError as e:\n",
    "        # Memory growth must be set before GPUs have been initialized\n",
    "        print(e)"
   ]
  },
  {
   "cell_type": "markdown",
   "id": "17a6a52495256e29",
   "metadata": {},
   "source": [
    "## Step 1: Create dataset (train, test, val)"
   ]
  },
  {
   "cell_type": "code",
   "execution_count": 3,
   "id": "8e49979dbfe20a97",
   "metadata": {
    "ExecuteTime": {
     "end_time": "2024-10-31T07:27:59.669094Z",
     "start_time": "2024-10-31T07:27:59.659485Z"
    }
   },
   "outputs": [],
   "source": [
    "def create_datasets(base_dir=\"../data\"):\n",
    "    # Separate lists for each dataset\n",
    "    train_data = []\n",
    "    val_data = []\n",
    "    test_data = []\n",
    "\n",
    "    # Define the folders and subfolders to iterate through\n",
    "    for folder in ['train', 'validation', 'test']:\n",
    "        for subfolder in ['real', 'deepfake']:\n",
    "            subfolder_path = os.path.join(base_dir, folder, subfolder)\n",
    "\n",
    "            # Check if the subfolder exists\n",
    "            if not os.path.exists(subfolder_path):\n",
    "                print(f\"Subfolder {subfolder_path} does not exist.\")\n",
    "                continue\n",
    "\n",
    "            # Loop through each subdirectory (representing each video) in the subfolder\n",
    "            for video_dir in os.listdir(subfolder_path):\n",
    "                video_path = os.path.join(subfolder_path, video_dir)\n",
    "\n",
    "                # Ensure the path is a directory (each video is in a subdirectory)\n",
    "                if os.path.isdir(video_path):\n",
    "                    # Create a label based on the subfolder\n",
    "                    label = 1 if subfolder == 'deepfake' else 0\n",
    "\n",
    "                    # Loop through each frame in the video directory\n",
    "                    for frame_file in os.listdir(video_path):\n",
    "                        frame_path = os.path.join(video_path, frame_file)\n",
    "\n",
    "                        # Check if the file is an image\n",
    "                        if frame_file.endswith(('.jpg', '.png', '.jpeg')) and os.path.isfile(frame_path):\n",
    "                            # Append the frame path and label to the appropriate dataset list\n",
    "                            if folder == 'train':\n",
    "                                train_data.append({'file_path': frame_path, 'label': label})\n",
    "                            elif folder == 'validation':\n",
    "                                val_data.append({'file_path': frame_path, 'label': label})\n",
    "                            elif folder == 'test':\n",
    "                                test_data.append({'file_path': frame_path, 'label': label})\n",
    "\n",
    "    # Create DataFrames from the collected data\n",
    "    train_df = pd.DataFrame(train_data)\n",
    "    val_df = pd.DataFrame(val_data)\n",
    "    test_df = pd.DataFrame(test_data)\n",
    "\n",
    "    # Shuffle the DataFrames\n",
    "    train_df = train_df.sample(frac=1, random_state=42).reset_index(drop=True)\n",
    "    val_df = val_df.sample(frac=1, random_state=42).reset_index(drop=True)\n",
    "    test_df = test_df.sample(frac=1, random_state=42).reset_index(drop=True)\n",
    "\n",
    "    return train_df, val_df, test_df"
   ]
  },
  {
   "cell_type": "code",
   "execution_count": 4,
   "id": "eb6b26aa8ee32579",
   "metadata": {
    "ExecuteTime": {
     "end_time": "2024-10-31T07:32:11.610905Z",
     "start_time": "2024-10-31T07:28:02.043381Z"
    }
   },
   "outputs": [],
   "source": [
    "train_df, val_df, test_df = create_datasets()"
   ]
  },
  {
   "cell_type": "code",
   "execution_count": 5,
   "id": "9dd3daf26a77b0b3",
   "metadata": {
    "ExecuteTime": {
     "end_time": "2024-10-31T07:32:11.665766Z",
     "start_time": "2024-10-31T07:32:11.626544Z"
    }
   },
   "outputs": [
    {
     "data": {
      "text/html": [
       "<div>\n",
       "<style scoped>\n",
       "    .dataframe tbody tr th:only-of-type {\n",
       "        vertical-align: middle;\n",
       "    }\n",
       "\n",
       "    .dataframe tbody tr th {\n",
       "        vertical-align: top;\n",
       "    }\n",
       "\n",
       "    .dataframe thead th {\n",
       "        text-align: right;\n",
       "    }\n",
       "</style>\n",
       "<table border=\"1\" class=\"dataframe\">\n",
       "  <thead>\n",
       "    <tr style=\"text-align: right;\">\n",
       "      <th></th>\n",
       "      <th>file_path</th>\n",
       "      <th>label</th>\n",
       "    </tr>\n",
       "  </thead>\n",
       "  <tbody>\n",
       "    <tr>\n",
       "      <th>0</th>\n",
       "      <td>../data/test/deepfake/gycrbqqnje/frame_0200.jpg</td>\n",
       "      <td>1</td>\n",
       "    </tr>\n",
       "    <tr>\n",
       "      <th>1</th>\n",
       "      <td>../data/test/deepfake/whfdwsqmrt/frame_0219.jpg</td>\n",
       "      <td>1</td>\n",
       "    </tr>\n",
       "    <tr>\n",
       "      <th>2</th>\n",
       "      <td>../data/test/real/rkqwwxjduw/frame_0009.jpg</td>\n",
       "      <td>0</td>\n",
       "    </tr>\n",
       "    <tr>\n",
       "      <th>3</th>\n",
       "      <td>../data/test/deepfake/tkpnnjqryo/frame_0048.jpg</td>\n",
       "      <td>1</td>\n",
       "    </tr>\n",
       "    <tr>\n",
       "      <th>4</th>\n",
       "      <td>../data/test/deepfake/okfinkhovh/frame_0038.jpg</td>\n",
       "      <td>1</td>\n",
       "    </tr>\n",
       "    <tr>\n",
       "      <th>...</th>\n",
       "      <td>...</td>\n",
       "      <td>...</td>\n",
       "    </tr>\n",
       "    <tr>\n",
       "      <th>326059</th>\n",
       "      <td>../data/test/real/qohooxdwvh/frame_0020.jpg</td>\n",
       "      <td>0</td>\n",
       "    </tr>\n",
       "    <tr>\n",
       "      <th>326060</th>\n",
       "      <td>../data/test/deepfake/olpoagoucj/frame_0292.jpg</td>\n",
       "      <td>1</td>\n",
       "    </tr>\n",
       "    <tr>\n",
       "      <th>326061</th>\n",
       "      <td>../data/test/real/ystdtnetgj/frame_0122.jpg</td>\n",
       "      <td>0</td>\n",
       "    </tr>\n",
       "    <tr>\n",
       "      <th>326062</th>\n",
       "      <td>../data/test/real/mlfbccdtoy/frame_0153.jpg</td>\n",
       "      <td>0</td>\n",
       "    </tr>\n",
       "    <tr>\n",
       "      <th>326063</th>\n",
       "      <td>../data/test/real/egghreippu/frame_0218.jpg</td>\n",
       "      <td>0</td>\n",
       "    </tr>\n",
       "  </tbody>\n",
       "</table>\n",
       "<p>326064 rows × 2 columns</p>\n",
       "</div>"
      ],
      "text/plain": [
       "                                              file_path  label\n",
       "0       ../data/test/deepfake/gycrbqqnje/frame_0200.jpg      1\n",
       "1       ../data/test/deepfake/whfdwsqmrt/frame_0219.jpg      1\n",
       "2           ../data/test/real/rkqwwxjduw/frame_0009.jpg      0\n",
       "3       ../data/test/deepfake/tkpnnjqryo/frame_0048.jpg      1\n",
       "4       ../data/test/deepfake/okfinkhovh/frame_0038.jpg      1\n",
       "...                                                 ...    ...\n",
       "326059      ../data/test/real/qohooxdwvh/frame_0020.jpg      0\n",
       "326060  ../data/test/deepfake/olpoagoucj/frame_0292.jpg      1\n",
       "326061      ../data/test/real/ystdtnetgj/frame_0122.jpg      0\n",
       "326062      ../data/test/real/mlfbccdtoy/frame_0153.jpg      0\n",
       "326063      ../data/test/real/egghreippu/frame_0218.jpg      0\n",
       "\n",
       "[326064 rows x 2 columns]"
      ]
     },
     "execution_count": 5,
     "metadata": {},
     "output_type": "execute_result"
    }
   ],
   "source": [
    "test_df"
   ]
  },
  {
   "cell_type": "markdown",
   "id": "174d36c8ff24acbc",
   "metadata": {},
   "source": [
    "## Step 2: Preprocessing"
   ]
  },
  {
   "cell_type": "code",
   "execution_count": 6,
   "id": "af3a59f700e7d638",
   "metadata": {
    "ExecuteTime": {
     "end_time": "2024-10-31T07:34:38.730793Z",
     "start_time": "2024-10-31T07:34:38.707821Z"
    }
   },
   "outputs": [],
   "source": [
    "def load_and_preprocess_image(file_path):\n",
    "    # Load the image from the file path\n",
    "    image = tf.io.read_file(file_path)\n",
    "    image = tf.image.decode_jpeg(image, channels=3)  # Decode the image\n",
    "    image = tf.image.resize(image, [224, 224])  # Resize to target size\n",
    "    image = image / 255.0  # Normalize to [0, 1]\n",
    "    return image\n",
    "\n",
    "def create_tf_dataset(df, batch_size=32, shuffle=True):\n",
    "    # Create a tf.data.Dataset from the DataFrame\n",
    "    file_paths = df['file_path'].values\n",
    "    labels = df['label'].values\n",
    "\n",
    "    # Create the dataset\n",
    "    dataset = tf.data.Dataset.from_tensor_slices((file_paths, labels))\n",
    "\n",
    "    # Map the loading and preprocessing function\n",
    "    dataset = dataset.map(\n",
    "        lambda file_path, label: (load_and_preprocess_image(file_path), label),\n",
    "        num_parallel_calls=tf.data.AUTOTUNE\n",
    "    )\n",
    "\n",
    "    # Shuffle and batch the dataset\n",
    "    if shuffle:\n",
    "        dataset = dataset.shuffle(buffer_size=1000)\n",
    "\n",
    "    dataset = dataset.batch(batch_size)\n",
    "    dataset = dataset.prefetch(tf.data.AUTOTUNE)  # Prefetch for performance\n",
    "\n",
    "    return dataset"
   ]
  },
  {
   "cell_type": "code",
   "execution_count": 12,
   "id": "5e2c564e82ea5ad5",
   "metadata": {
    "ExecuteTime": {
     "end_time": "2024-10-31T07:34:42.545878Z",
     "start_time": "2024-10-31T07:34:42.290538Z"
    }
   },
   "outputs": [
    {
     "data": {
      "text/plain": [
       "<_PrefetchDataset element_spec=(TensorSpec(shape=(None, 224, 224, 3), dtype=tf.float32, name=None), TensorSpec(shape=(None,), dtype=tf.int64, name=None))>"
      ]
     },
     "execution_count": 12,
     "metadata": {},
     "output_type": "execute_result"
    }
   ],
   "source": [
    "# Parameters\n",
    "batch_size = 64\n",
    "\n",
    "# Create datasets\n",
    "train_dataset = create_tf_dataset(train_df, batch_size=batch_size)\n",
    "validation_dataset = create_tf_dataset(val_df, batch_size=batch_size)\n",
    "train_dataset"
   ]
  },
  {
   "cell_type": "markdown",
   "id": "1786ccc62327d250",
   "metadata": {},
   "source": [
    "## Step 3: Build CNN Model"
   ]
  },
  {
   "cell_type": "code",
   "execution_count": 15,
   "id": "6e4a7a7b200c80aa",
   "metadata": {
    "ExecuteTime": {
     "end_time": "2024-10-31T07:34:46.413511Z",
     "start_time": "2024-10-31T07:34:46.406461Z"
    }
   },
   "outputs": [],
   "source": [
    "def build_model(hp):\n",
    "    model = Sequential()\n",
    "    model.add(Conv2D(hp.Int('filters_1', min_value=32, max_value=128, step=32),\n",
    "                     (3, 3), activation='relu', input_shape=(224, 224, 3)))\n",
    "    model.add(MaxPooling2D((2, 2)))\n",
    "    model.add(Conv2D(hp.Int('filters_2', min_value=64, max_value=256, step=64),\n",
    "                     (3, 3), activation='relu'))\n",
    "    model.add(MaxPooling2D((2, 2)))\n",
    "    model.add(Flatten())\n",
    "    model.add(Dense(hp.Int('units', min_value=64, max_value=256, step=64), activation='relu'))\n",
    "    model.add(Dropout(hp.Float('dropout', 0.3, 0.5, step=0.1)))\n",
    "    model.add(Dense(1, activation='sigmoid'))\n",
    "    model.compile(optimizer=Adam(hp.Choice('learning_rate', values=[1e-2, 1e-3, 1e-4])),\n",
    "                  loss='binary_crossentropy',\n",
    "                  metrics=['accuracy'])\n",
    "    return model"
   ]
  },
  {
   "cell_type": "markdown",
   "id": "c4df15a7d45998b9",
   "metadata": {},
   "source": [
    "## Step 4: Training"
   ]
  },
  {
   "cell_type": "code",
   "execution_count": null,
   "id": "5ce3a89a46529e47",
   "metadata": {
    "jupyter": {
     "is_executing": true
    },
    "scrolled": true
   },
   "outputs": [
    {
     "name": "stdout",
     "output_type": "stream",
     "text": [
      "\n",
      "Search: Running Trial #1\n",
      "\n",
      "Value             |Best Value So Far |Hyperparameter\n",
      "128               |128               |filters_1\n",
      "192               |192               |filters_2\n",
      "64                |64                |units\n",
      "0.4               |0.4               |dropout\n",
      "0.0001            |0.0001            |learning_rate\n",
      "\n",
      "Epoch 1/10\n"
     ]
    },
    {
     "name": "stderr",
     "output_type": "stream",
     "text": [
      "2024-10-31 12:24:40.144872: W tensorflow/tsl/framework/bfc_allocator.cc:366] Garbage collection: deallocate free memory regions (i.e., allocations) so that we can re-allocate a larger region to avoid OOM due to memory fragmentation. If you see this message frequently, you are running near the threshold of the available device memory and re-allocation may incur great performance overhead. You may try smaller batch sizes to observe the performance impact. Set TF_ENABLE_GPU_GARBAGE_COLLECTION=false if you'd like to disable this feature.\n"
     ]
    },
    {
     "name": "stdout",
     "output_type": "stream",
     "text": [
      "    6/16599 [..............................] - ETA: 1:10:04 - loss: 1.0137 - accuracy: 0.4557WARNING:tensorflow:Callback method `on_train_batch_end` is slow compared to the batch time (batch time: 0.0744s vs `on_train_batch_end` time: 0.1488s). Check your callbacks.\n",
      "16599/16599 [==============================] - 4495s 270ms/step - loss: 0.4690 - accuracy: 0.7642 - val_loss: 0.4797 - val_accuracy: 0.7815\n",
      "Epoch 2/10\n",
      " 4227/16599 [======>.......................] - ETA: 52:08 - loss: 0.3516 - accuracy: 0.8381"
     ]
    }
   ],
   "source": [
    "# Set up the tuner\n",
    "csv_logger = CSVLogger('training_output.csv', append=True)\n",
    "\n",
    "tuner = RandomSearch(\n",
    "    build_model,\n",
    "    objective='val_accuracy',\n",
    "    max_trials=5,\n",
    "    executions_per_trial=1,\n",
    "    directory='tuner_dir',\n",
    "    project_name='cnn_tuning',\n",
    ")\n",
    "# Start tuning\n",
    "tuner.search(train_dataset, validation_data=validation_dataset, epochs=10, callbacks=[csv_logger])\n",
    "\n",
    "# Get the best model\n",
    "best_model = tuner.get_best_models(num_models=1)[0]"
   ]
  },
  {
   "cell_type": "code",
   "execution_count": 14,
   "id": "55ab42e973e3a308",
   "metadata": {
    "ExecuteTime": {
     "end_time": "2024-10-31T08:49:30.354252Z",
     "start_time": "2024-10-31T08:49:29.931529Z"
    }
   },
   "outputs": [
    {
     "name": "stderr",
     "output_type": "stream",
     "text": [
      "WARNING:absl:You are saving your model as an HDF5 file via `model.save()` or `keras.saving.save_model(model)`. This file format is considered legacy. We recommend using instead the native Keras format, e.g. `model.save('my_model.keras')` or `keras.saving.save_model(model, 'my_model.keras')`. \n"
     ]
    },
    {
     "data": {
      "text/html": [
       "<pre style=\"white-space:pre;overflow-x:auto;line-height:normal;font-family:Menlo,'DejaVu Sans Mono',consolas,'Courier New',monospace\"><span style=\"font-weight: bold\">Model: \"sequential\"</span>\n",
       "</pre>\n"
      ],
      "text/plain": [
       "\u001b[1mModel: \"sequential\"\u001b[0m\n"
      ]
     },
     "metadata": {},
     "output_type": "display_data"
    },
    {
     "data": {
      "text/html": [
       "<pre style=\"white-space:pre;overflow-x:auto;line-height:normal;font-family:Menlo,'DejaVu Sans Mono',consolas,'Courier New',monospace\">┏━━━━━━━━━━━━━━━━━━━━━━━━━━━━━━━━━┳━━━━━━━━━━━━━━━━━━━━━━━━┳━━━━━━━━━━━━━━━┓\n",
       "┃<span style=\"font-weight: bold\"> Layer (type)                    </span>┃<span style=\"font-weight: bold\"> Output Shape           </span>┃<span style=\"font-weight: bold\">       Param # </span>┃\n",
       "┡━━━━━━━━━━━━━━━━━━━━━━━━━━━━━━━━━╇━━━━━━━━━━━━━━━━━━━━━━━━╇━━━━━━━━━━━━━━━┩\n",
       "│ conv2d (<span style=\"color: #0087ff; text-decoration-color: #0087ff\">Conv2D</span>)                 │ (<span style=\"color: #00d7ff; text-decoration-color: #00d7ff\">None</span>, <span style=\"color: #00af00; text-decoration-color: #00af00\">222</span>, <span style=\"color: #00af00; text-decoration-color: #00af00\">222</span>, <span style=\"color: #00af00; text-decoration-color: #00af00\">128</span>)  │         <span style=\"color: #00af00; text-decoration-color: #00af00\">3,584</span> │\n",
       "├─────────────────────────────────┼────────────────────────┼───────────────┤\n",
       "│ max_pooling2d (<span style=\"color: #0087ff; text-decoration-color: #0087ff\">MaxPooling2D</span>)    │ (<span style=\"color: #00d7ff; text-decoration-color: #00d7ff\">None</span>, <span style=\"color: #00af00; text-decoration-color: #00af00\">111</span>, <span style=\"color: #00af00; text-decoration-color: #00af00\">111</span>, <span style=\"color: #00af00; text-decoration-color: #00af00\">128</span>)  │             <span style=\"color: #00af00; text-decoration-color: #00af00\">0</span> │\n",
       "├─────────────────────────────────┼────────────────────────┼───────────────┤\n",
       "│ conv2d_1 (<span style=\"color: #0087ff; text-decoration-color: #0087ff\">Conv2D</span>)               │ (<span style=\"color: #00d7ff; text-decoration-color: #00d7ff\">None</span>, <span style=\"color: #00af00; text-decoration-color: #00af00\">109</span>, <span style=\"color: #00af00; text-decoration-color: #00af00\">109</span>, <span style=\"color: #00af00; text-decoration-color: #00af00\">128</span>)  │       <span style=\"color: #00af00; text-decoration-color: #00af00\">147,584</span> │\n",
       "├─────────────────────────────────┼────────────────────────┼───────────────┤\n",
       "│ max_pooling2d_1 (<span style=\"color: #0087ff; text-decoration-color: #0087ff\">MaxPooling2D</span>)  │ (<span style=\"color: #00d7ff; text-decoration-color: #00d7ff\">None</span>, <span style=\"color: #00af00; text-decoration-color: #00af00\">54</span>, <span style=\"color: #00af00; text-decoration-color: #00af00\">54</span>, <span style=\"color: #00af00; text-decoration-color: #00af00\">128</span>)    │             <span style=\"color: #00af00; text-decoration-color: #00af00\">0</span> │\n",
       "├─────────────────────────────────┼────────────────────────┼───────────────┤\n",
       "│ flatten (<span style=\"color: #0087ff; text-decoration-color: #0087ff\">Flatten</span>)               │ (<span style=\"color: #00d7ff; text-decoration-color: #00d7ff\">None</span>, <span style=\"color: #00af00; text-decoration-color: #00af00\">373248</span>)         │             <span style=\"color: #00af00; text-decoration-color: #00af00\">0</span> │\n",
       "├─────────────────────────────────┼────────────────────────┼───────────────┤\n",
       "│ dense (<span style=\"color: #0087ff; text-decoration-color: #0087ff\">Dense</span>)                   │ (<span style=\"color: #00d7ff; text-decoration-color: #00d7ff\">None</span>, <span style=\"color: #00af00; text-decoration-color: #00af00\">128</span>)            │    <span style=\"color: #00af00; text-decoration-color: #00af00\">47,775,872</span> │\n",
       "├─────────────────────────────────┼────────────────────────┼───────────────┤\n",
       "│ dropout (<span style=\"color: #0087ff; text-decoration-color: #0087ff\">Dropout</span>)               │ (<span style=\"color: #00d7ff; text-decoration-color: #00d7ff\">None</span>, <span style=\"color: #00af00; text-decoration-color: #00af00\">128</span>)            │             <span style=\"color: #00af00; text-decoration-color: #00af00\">0</span> │\n",
       "├─────────────────────────────────┼────────────────────────┼───────────────┤\n",
       "│ dense_1 (<span style=\"color: #0087ff; text-decoration-color: #0087ff\">Dense</span>)                 │ (<span style=\"color: #00d7ff; text-decoration-color: #00d7ff\">None</span>, <span style=\"color: #00af00; text-decoration-color: #00af00\">1</span>)              │           <span style=\"color: #00af00; text-decoration-color: #00af00\">129</span> │\n",
       "└─────────────────────────────────┴────────────────────────┴───────────────┘\n",
       "</pre>\n"
      ],
      "text/plain": [
       "┏━━━━━━━━━━━━━━━━━━━━━━━━━━━━━━━━━┳━━━━━━━━━━━━━━━━━━━━━━━━┳━━━━━━━━━━━━━━━┓\n",
       "┃\u001b[1m \u001b[0m\u001b[1mLayer (type)                   \u001b[0m\u001b[1m \u001b[0m┃\u001b[1m \u001b[0m\u001b[1mOutput Shape          \u001b[0m\u001b[1m \u001b[0m┃\u001b[1m \u001b[0m\u001b[1m      Param #\u001b[0m\u001b[1m \u001b[0m┃\n",
       "┡━━━━━━━━━━━━━━━━━━━━━━━━━━━━━━━━━╇━━━━━━━━━━━━━━━━━━━━━━━━╇━━━━━━━━━━━━━━━┩\n",
       "│ conv2d (\u001b[38;5;33mConv2D\u001b[0m)                 │ (\u001b[38;5;45mNone\u001b[0m, \u001b[38;5;34m222\u001b[0m, \u001b[38;5;34m222\u001b[0m, \u001b[38;5;34m128\u001b[0m)  │         \u001b[38;5;34m3,584\u001b[0m │\n",
       "├─────────────────────────────────┼────────────────────────┼───────────────┤\n",
       "│ max_pooling2d (\u001b[38;5;33mMaxPooling2D\u001b[0m)    │ (\u001b[38;5;45mNone\u001b[0m, \u001b[38;5;34m111\u001b[0m, \u001b[38;5;34m111\u001b[0m, \u001b[38;5;34m128\u001b[0m)  │             \u001b[38;5;34m0\u001b[0m │\n",
       "├─────────────────────────────────┼────────────────────────┼───────────────┤\n",
       "│ conv2d_1 (\u001b[38;5;33mConv2D\u001b[0m)               │ (\u001b[38;5;45mNone\u001b[0m, \u001b[38;5;34m109\u001b[0m, \u001b[38;5;34m109\u001b[0m, \u001b[38;5;34m128\u001b[0m)  │       \u001b[38;5;34m147,584\u001b[0m │\n",
       "├─────────────────────────────────┼────────────────────────┼───────────────┤\n",
       "│ max_pooling2d_1 (\u001b[38;5;33mMaxPooling2D\u001b[0m)  │ (\u001b[38;5;45mNone\u001b[0m, \u001b[38;5;34m54\u001b[0m, \u001b[38;5;34m54\u001b[0m, \u001b[38;5;34m128\u001b[0m)    │             \u001b[38;5;34m0\u001b[0m │\n",
       "├─────────────────────────────────┼────────────────────────┼───────────────┤\n",
       "│ flatten (\u001b[38;5;33mFlatten\u001b[0m)               │ (\u001b[38;5;45mNone\u001b[0m, \u001b[38;5;34m373248\u001b[0m)         │             \u001b[38;5;34m0\u001b[0m │\n",
       "├─────────────────────────────────┼────────────────────────┼───────────────┤\n",
       "│ dense (\u001b[38;5;33mDense\u001b[0m)                   │ (\u001b[38;5;45mNone\u001b[0m, \u001b[38;5;34m128\u001b[0m)            │    \u001b[38;5;34m47,775,872\u001b[0m │\n",
       "├─────────────────────────────────┼────────────────────────┼───────────────┤\n",
       "│ dropout (\u001b[38;5;33mDropout\u001b[0m)               │ (\u001b[38;5;45mNone\u001b[0m, \u001b[38;5;34m128\u001b[0m)            │             \u001b[38;5;34m0\u001b[0m │\n",
       "├─────────────────────────────────┼────────────────────────┼───────────────┤\n",
       "│ dense_1 (\u001b[38;5;33mDense\u001b[0m)                 │ (\u001b[38;5;45mNone\u001b[0m, \u001b[38;5;34m1\u001b[0m)              │           \u001b[38;5;34m129\u001b[0m │\n",
       "└─────────────────────────────────┴────────────────────────┴───────────────┘\n"
      ]
     },
     "metadata": {},
     "output_type": "display_data"
    },
    {
     "data": {
      "text/html": [
       "<pre style=\"white-space:pre;overflow-x:auto;line-height:normal;font-family:Menlo,'DejaVu Sans Mono',consolas,'Courier New',monospace\"><span style=\"font-weight: bold\"> Total params: </span><span style=\"color: #00af00; text-decoration-color: #00af00\">47,927,169</span> (182.83 MB)\n",
       "</pre>\n"
      ],
      "text/plain": [
       "\u001b[1m Total params: \u001b[0m\u001b[38;5;34m47,927,169\u001b[0m (182.83 MB)\n"
      ]
     },
     "metadata": {},
     "output_type": "display_data"
    },
    {
     "data": {
      "text/html": [
       "<pre style=\"white-space:pre;overflow-x:auto;line-height:normal;font-family:Menlo,'DejaVu Sans Mono',consolas,'Courier New',monospace\"><span style=\"font-weight: bold\"> Trainable params: </span><span style=\"color: #00af00; text-decoration-color: #00af00\">47,927,169</span> (182.83 MB)\n",
       "</pre>\n"
      ],
      "text/plain": [
       "\u001b[1m Trainable params: \u001b[0m\u001b[38;5;34m47,927,169\u001b[0m (182.83 MB)\n"
      ]
     },
     "metadata": {},
     "output_type": "display_data"
    },
    {
     "data": {
      "text/html": [
       "<pre style=\"white-space:pre;overflow-x:auto;line-height:normal;font-family:Menlo,'DejaVu Sans Mono',consolas,'Courier New',monospace\"><span style=\"font-weight: bold\"> Non-trainable params: </span><span style=\"color: #00af00; text-decoration-color: #00af00\">0</span> (0.00 B)\n",
       "</pre>\n"
      ],
      "text/plain": [
       "\u001b[1m Non-trainable params: \u001b[0m\u001b[38;5;34m0\u001b[0m (0.00 B)\n"
      ]
     },
     "metadata": {},
     "output_type": "display_data"
    }
   ],
   "source": [
    "# 1. Save the best model\n",
    "best_model.save(\"best_cnn_model.h5\")  # Saves the model as an H5 file\n",
    "\n",
    "# 2. Print the model summary\n",
    "best_model.summary()"
   ]
  },
  {
   "cell_type": "markdown",
   "id": "88d8387adbc197e3",
   "metadata": {},
   "source": [
    "## Step 5: Predictions"
   ]
  },
  {
   "cell_type": "code",
   "execution_count": 7,
   "id": "5c248c33d45dd75c",
   "metadata": {},
   "outputs": [],
   "source": [
    "# Load the saved model\n",
    "best_model_loaded = load_model(\"best_cnn_model.h5\")"
   ]
  },
  {
   "cell_type": "code",
   "execution_count": 8,
   "id": "9f3831ef2535b044",
   "metadata": {
    "ExecuteTime": {
     "end_time": "2024-10-31T09:21:49.629655Z",
     "start_time": "2024-10-31T09:21:49.617745Z"
    }
   },
   "outputs": [],
   "source": [
    "def predict_videos(model, test_df, batch_size=32):\n",
    "    # Dictionary to store video predictions and labels\n",
    "    video_predictions = {}\n",
    "    all_predictions = []\n",
    "    all_true_labels = []\n",
    "\n",
    "    # Lists to store images and labels in each batch\n",
    "    batch_images = []\n",
    "    batch_true_labels = []\n",
    "    video_dirs = []\n",
    "\n",
    "    # Counter to track number of predictions\n",
    "    prediction_count = 0\n",
    "\n",
    "    for index, row in test_df.iterrows():\n",
    "        frame_path = row['file_path']\n",
    "        video_dir = os.path.dirname(frame_path)  # Get the directory of the video\n",
    "        true_label = row['label']  # Retrieve the true label for this frame\n",
    "\n",
    "        # Load and preprocess the image\n",
    "        image = load_and_preprocess_image(frame_path)\n",
    "        batch_images.append(image)\n",
    "        batch_true_labels.append(true_label)\n",
    "        video_dirs.append(video_dir)\n",
    "\n",
    "        # Once batch is filled, predict and process results\n",
    "        if len(batch_images) == batch_size:\n",
    "            # Stack images in the batch along the first dimension\n",
    "            batch_images = np.stack(batch_images)\n",
    "            # Predict on the batch\n",
    "            batch_predictions = model.predict(batch_images, verbose=0).flatten()\n",
    "\n",
    "            # Process predictions\n",
    "            for i, prediction_value in enumerate(batch_predictions):\n",
    "                video_dir = video_dirs[i]\n",
    "                true_label = batch_true_labels[i]\n",
    "\n",
    "                if video_dir not in video_predictions:\n",
    "                    video_predictions[video_dir] = {\n",
    "                        'predictions': [],\n",
    "                        'true_labels': true_label  # Store the true label\n",
    "                    }\n",
    "                video_predictions[video_dir]['predictions'].append(prediction_value)\n",
    "                all_predictions.append(prediction_value)\n",
    "                all_true_labels.append(true_label)\n",
    "                prediction_count += 1\n",
    "\n",
    "            # Print progress every 10,000 predictions\n",
    "            if prediction_count % 10000 == 0:\n",
    "                print(f\"{prediction_count} predictions processed.\")\n",
    "\n",
    "            # Clear batch data for next set\n",
    "            batch_images, batch_true_labels, video_dirs = [], [], []\n",
    "\n",
    "    # Predict any remaining images that didn’t fill the last batch\n",
    "    if batch_images:\n",
    "        batch_images = np.stack(batch_images)\n",
    "        batch_predictions = model.predict(batch_images, verbose=0).flatten()\n",
    "        for i, prediction_value in enumerate(batch_predictions):\n",
    "            video_dir = video_dirs[i]\n",
    "            true_label = batch_true_labels[i]\n",
    "            if video_dir not in video_predictions:\n",
    "                video_predictions[video_dir] = {\n",
    "                    'predictions': [],\n",
    "                    'true_labels': true_label\n",
    "                }\n",
    "            video_predictions[video_dir]['predictions'].append(prediction_value)\n",
    "            all_predictions.append(prediction_value)\n",
    "            all_true_labels.append(true_label)\n",
    "            prediction_count += 1\n",
    "\n",
    "    # Aggregate predictions at the video level\n",
    "    video_classifications = {}\n",
    "    for video_dir, data in video_predictions.items():\n",
    "        preds = data['predictions']\n",
    "        true_label = data['true_labels']\n",
    "        mean_prediction = np.mean(preds)\n",
    "        video_classifications[video_dir] = {\n",
    "            'mean_prediction': mean_prediction,\n",
    "            'true_label': true_label\n",
    "        }\n",
    "\n",
    "    return video_classifications, np.array(all_true_labels), np.array(all_predictions)"
   ]
  },
  {
   "cell_type": "code",
   "execution_count": 3,
   "id": "67f13e9b0e35433e",
   "metadata": {
    "ExecuteTime": {
     "end_time": "2024-10-31T09:27:03.000049Z",
     "start_time": "2024-10-31T09:25:34.579886Z"
    }
   },
   "outputs": [
    {
     "ename": "NameError",
     "evalue": "name 'predict_videos' is not defined",
     "output_type": "error",
     "traceback": [
      "\u001b[0;31m---------------------------------------------------------------------------\u001b[0m",
      "\u001b[0;31mNameError\u001b[0m                                 Traceback (most recent call last)",
      "Cell \u001b[0;32mIn[3], line 2\u001b[0m\n\u001b[1;32m      1\u001b[0m \u001b[38;5;66;03m# Predict on the test set using the predict_videos function\u001b[39;00m\n\u001b[0;32m----> 2\u001b[0m video_classifications, all_true_labels, all_predictions \u001b[38;5;241m=\u001b[39m \u001b[43mpredict_videos\u001b[49m(best_model_loaded, test_df)  \u001b[38;5;66;03m# Adjust the slicing as needed\u001b[39;00m\n\u001b[1;32m      4\u001b[0m \u001b[38;5;66;03m# Prepare true labels and predicted labels for confusion matrix and classification report\u001b[39;00m\n\u001b[1;32m      5\u001b[0m y_true \u001b[38;5;241m=\u001b[39m []\n",
      "\u001b[0;31mNameError\u001b[0m: name 'predict_videos' is not defined"
     ]
    }
   ],
   "source": [
    "# Predict on the test set using the predict_videos function\n",
    "video_classifications, all_true_labels, all_predictions = predict_videos(best_model_loaded, test_df)  # Adjust the slicing as needed\n",
    "\n",
    "# Prepare true labels and predicted labels for confusion matrix and classification report\n",
    "y_true = []\n",
    "y_pred = []  # This will store the mean prediction values for AUC/ROC\n",
    "video_names = []\n",
    "\n",
    "for video_dir, result in video_classifications.items():\n",
    "    video_name = os.path.basename(video_dir)  # Get the last subdirectory (video name)\n",
    "    video_names.append(video_name)  # Store video names\n",
    "    y_true.append(result['true_label'])\n",
    "\n",
    "    # Store the mean prediction value for ROC analysis\n",
    "    mean_prediction = result['mean_prediction']\n",
    "    y_pred.append(mean_prediction)  # Store the probability\n",
    "\n",
    "# Compute confusion matrix and display it\n",
    "# Apply threshold to create binary predictions for the confusion matrix\n",
    "binary_predictions = [1 if pred >= 0.5 else 0 for pred in y_pred]\n",
    "cm = confusion_matrix(y_true, binary_predictions)\n",
    "disp = ConfusionMatrixDisplay(confusion_matrix=cm, display_labels=[\"Real\", \"Deepfake\"])\n",
    "disp.plot(cmap=plt.cm.Blues)\n",
    "plt.title(\"Confusion Matrix\")\n",
    "plt.show()\n",
    "\n",
    "# Print classification report\n",
    "print(classification_report(y_true, binary_predictions, target_names=[\"Real\", \"Deepfake\"]))\n",
    "\n",
    "# Create a DataFrame for the results including probability predictions\n",
    "results_df = pd.DataFrame({\n",
    "    'video_name': video_names,\n",
    "    'predicted_probability': y_pred,  # Store the predicted probabilities\n",
    "    'actual_label': y_true\n",
    "})\n",
    "\n",
    "# Output the results to a CSV file\n",
    "results_df.to_csv('video_classification_results.csv', index=False)\n",
    "\n",
    "print(\"Results saved to 'video_classification_results.csv'.\")"
   ]
  },
  {
   "cell_type": "code",
   "execution_count": 2,
   "id": "51925855-488c-4a76-b0fc-29b0e2213ec6",
   "metadata": {
    "ExecuteTime": {
     "end_time": "2024-11-02T03:16:50.316783Z",
     "start_time": "2024-11-02T03:16:50.113562Z"
    }
   },
   "outputs": [
    {
     "data": {
      "image/png": "[encoded data removed]",
      "text/plain": [
       "<Figure size 640x480 with 2 Axes>"
      ]
     },
     "metadata": {},
     "output_type": "display_data"
    },
    {
     "name": "stdout",
     "output_type": "stream",
     "text": [
      "              precision    recall  f1-score   support\n",
      "\n",
      "        Real       0.86      0.89      0.88       550\n",
      "    Deepfake       0.89      0.86      0.87       550\n",
      "\n",
      "    accuracy                           0.88      1100\n",
      "   macro avg       0.88      0.88      0.88      1100\n",
      "weighted avg       0.88      0.88      0.88      1100\n",
      "\n"
     ]
    },
    {
     "data": {
      "text/plain": [
       "<Figure size 640x480 with 0 Axes>"
      ]
     },
     "metadata": {},
     "output_type": "display_data"
    }
   ],
   "source": [
    "# Load the results CSV file\n",
    "results_df = pd.read_csv('results/video_classification_results.csv')\n",
    "\n",
    "# Prepare the true labels and predicted probabilities for confusion matrix and classification report\n",
    "y_true = results_df['actual_label']\n",
    "y_pred_prob = results_df['predicted_probability']\n",
    "\n",
    "# Apply threshold to create binary predictions (adjust the threshold if needed)\n",
    "threshold = 0.5\n",
    "y_pred_binary = [1 if prob >= threshold else 0 for prob in y_pred_prob]\n",
    "\n",
    "# Compute confusion matrix\n",
    "cm = confusion_matrix(y_true, y_pred_binary)\n",
    "disp = ConfusionMatrixDisplay(confusion_matrix=cm, display_labels=[\"Real\", \"Deepfake\"])\n",
    "disp.plot(cmap=plt.cm.Blues)\n",
    "plt.title(\"Confusion Matrix\")\n",
    "plt.show()\n",
    "os.makedirs('results', exist_ok=True)\n",
    "plt.savefig('results/confusion_matrix.png')\n",
    "\n",
    "# Print classification report\n",
    "print(classification_report(y_true, y_pred_binary, target_names=[\"Real\", \"Deepfake\"]))"
   ]
  },
  {
   "cell_type": "code",
   "execution_count": 4,
   "id": "19f481adbb979b2a",
   "metadata": {
    "ExecuteTime": {
     "end_time": "2024-11-02T02:47:58.302525Z",
     "start_time": "2024-11-02T02:47:58.200644Z"
    }
   },
   "outputs": [
    {
     "data": {
      "image/png": "[encoded data removed]",
      "text/plain": [
       "<Figure size 640x480 with 1 Axes>"
      ]
     },
     "metadata": {},
     "output_type": "display_data"
    }
   ],
   "source": [
    "# Plot AUC-ROC Curve\n",
    "fpr, tpr, thresholds = roc_curve(y_true, y_pred_prob)\n",
    "roc_auc = auc(fpr, tpr)\n",
    "\n",
    "plt.figure()\n",
    "plt.plot(fpr, tpr, color='blue', label='ROC curve (area = {:.2f})'.format(roc_auc))\n",
    "plt.plot([0, 1], [0, 1], color='red', linestyle='--')  # Diagonal line for random chance\n",
    "plt.xlim([0.0, 1.0])\n",
    "plt.ylim([0.0, 1.05])\n",
    "plt.xlabel('False Positive Rate')\n",
    "plt.ylabel('True Positive Rate')\n",
    "plt.title('Receiver Operating Characteristic (ROC) Curve')\n",
    "plt.legend(loc='lower right')\n",
    "plt.show()\n",
    "os.makedirs('results', exist_ok=True)\n",
    "plt.savefig('results/auc_roc.png')"
   ]
  }
 ],
 "metadata": {
  "kernelspec": {
   "display_name": "Python 3 (ipykernel)",
   "language": "python",
   "name": "python3"
  },
  "language_info": {
   "codemirror_mode": {
    "name": "ipython",
    "version": 3
   },
   "file_extension": ".py",
   "mimetype": "text/x-python",
   "name": "python",
   "nbconvert_exporter": "python",
   "pygments_lexer": "ipython3",
   "version": "3.10.9"
  }
 },
 "nbformat": 4,
 "nbformat_minor": 5
}
