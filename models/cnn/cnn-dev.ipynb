{
 "cells": [
  {
   "metadata": {},
   "cell_type": "markdown",
   "source": "## Imports",
   "id": "a3bd2fac9922e9b"
  },
  {
   "metadata": {
    "ExecuteTime": {
     "end_time": "2024-10-25T04:42:47.295428Z",
     "start_time": "2024-10-25T04:42:46.481316Z"
    }
   },
   "cell_type": "code",
   "source": [
    "import os\n",
    "import cv2\n",
    "import json\n",
    "import pandas as pd"
   ],
   "id": "ea8fd990255b982b",
   "outputs": [],
   "execution_count": 10
  },
  {
   "metadata": {},
   "cell_type": "markdown",
   "source": "## Step 1: Load the video",
   "id": "fdea3196920f729c"
  },
  {
   "cell_type": "code",
   "id": "initial_id",
   "metadata": {
    "collapsed": true,
    "ExecuteTime": {
     "end_time": "2024-10-25T04:38:44.788704Z",
     "start_time": "2024-10-25T04:38:44.783460Z"
    }
   },
   "source": [
    "def load_video(video_name, folder_path=\"../../data/train_sample_videos\"):\n",
    "    video_path = os.path.join(folder_path, video_name)\n",
    "    if not os.path.exists(video_path):\n",
    "        raise FileNotFoundError(f\"Video {video_name} not found in {folder_path}\")\n",
    "\n",
    "    cap = cv2.VideoCapture(video_path)\n",
    "    if not cap.isOpened():\n",
    "        raise ValueError(f\"Could not open the video: {video_name}\")\n",
    "\n",
    "    print(f\"Successfully loaded video: {video_name}\")\n",
    "    return cap"
   ],
   "outputs": [],
   "execution_count": 8
  },
  {
   "metadata": {
    "ExecuteTime": {
     "end_time": "2024-10-25T04:38:46.435520Z",
     "start_time": "2024-10-25T04:38:46.280777Z"
    }
   },
   "cell_type": "code",
   "source": [
    "# Testing the function\n",
    "video_name = \"aagfhgtpmv.mp4\"  # Replace with an actual video filename in your folder\n",
    "cap = load_video(video_name)"
   ],
   "id": "adb5a41671a62a90",
   "outputs": [
    {
     "name": "stdout",
     "output_type": "stream",
     "text": [
      "Successfully loaded video: aagfhgtpmv.mp4\n"
     ]
    }
   ],
   "execution_count": 9
  },
  {
   "metadata": {},
   "cell_type": "markdown",
   "source": "## Step 2: Convert video into pictures",
   "id": "e4ff641057750b0"
  },
  {
   "metadata": {
    "ExecuteTime": {
     "end_time": "2024-10-25T04:54:04.633741Z",
     "start_time": "2024-10-25T04:54:04.628509Z"
    }
   },
   "cell_type": "code",
   "source": [
    "def extract_frames(cap, frame_interval=1):\n",
    "    frames = []\n",
    "    frame_count = 0\n",
    "\n",
    "    while True:\n",
    "        ret, frame = cap.read()\n",
    "        if not ret:\n",
    "            break  # Exit if no more frames are available\n",
    "\n",
    "        if frame_count % frame_interval == 0:  # Check if the current frame should be extracted\n",
    "            # Resize frame to (224, 224) for CNN input\n",
    "            resized_frame = cv2.resize(frame, (224, 224)) / 255.0  # Normalize to [0, 1]\n",
    "            frames.append(resized_frame)\n",
    "\n",
    "        frame_count += 1\n",
    "\n",
    "    return frames"
   ],
   "id": "90019990db3a2b3b",
   "outputs": [],
   "execution_count": 13
  },
  {
   "metadata": {
    "ExecuteTime": {
     "end_time": "2024-10-25T04:54:27.048053Z",
     "start_time": "2024-10-25T04:54:25.461744Z"
    }
   },
   "cell_type": "code",
   "source": [
    "# Test usage\n",
    "video_name = \"aagfhgtpmv.mp4\"  # Replace with an actual video filename in your folder\n",
    "cap = load_video(video_name)\n",
    "frames = extract_frames(cap, frame_interval=5)  # Extract every 5th frame\n",
    "print(f\"Extracted {len(frames)} frames.\")"
   ],
   "id": "ddbb6cac4fc11828",
   "outputs": [
    {
     "name": "stdout",
     "output_type": "stream",
     "text": [
      "Successfully loaded video: aagfhgtpmv.mp4\n",
      "Extracted 60 frames.\n"
     ]
    }
   ],
   "execution_count": 14
  },
  {
   "metadata": {
    "ExecuteTime": {
     "end_time": "2024-10-25T04:55:42.902624Z",
     "start_time": "2024-10-25T04:55:42.897711Z"
    }
   },
   "cell_type": "code",
   "source": [
    "def save_frames(frames, output_folder=\"./extracted_frames\"):\n",
    "    # Create output folder if it doesn't exist\n",
    "    os.makedirs(output_folder, exist_ok=True)\n",
    "\n",
    "    for frame_count, frame in enumerate(frames):\n",
    "        # Save the frame as an image file\n",
    "        output_path = os.path.join(output_folder, f\"frame_{frame_count:04d}.jpg\")\n",
    "        cv2.imwrite(output_path, (frame * 255).astype('uint8'))  # Convert back to [0, 255] for saving\n",
    "\n",
    "    print(f\"Saved {len(frames)} frames to {output_folder}\")"
   ],
   "id": "79ee05fc2b8e1be1",
   "outputs": [],
   "execution_count": 15
  },
  {
   "metadata": {
    "ExecuteTime": {
     "end_time": "2024-10-25T04:55:51.995425Z",
     "start_time": "2024-10-25T04:55:51.863365Z"
    }
   },
   "cell_type": "code",
   "source": "save_frames(frames)",
   "id": "80d2b27aae5f2bcf",
   "outputs": [
    {
     "name": "stdout",
     "output_type": "stream",
     "text": [
      "Saved 60 frames to ./extracted_frames\n"
     ]
    }
   ],
   "execution_count": 16
  }
 ],
 "metadata": {
  "kernelspec": {
   "display_name": "Python 3",
   "language": "python",
   "name": "python3"
  },
  "language_info": {
   "codemirror_mode": {
    "name": "ipython",
    "version": 2
   },
   "file_extension": ".py",
   "mimetype": "text/x-python",
   "name": "python",
   "nbconvert_exporter": "python",
   "pygments_lexer": "ipython2",
   "version": "2.7.6"
  }
 },
 "nbformat": 4,
 "nbformat_minor": 5
}
