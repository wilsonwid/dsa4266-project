{
 "cells": [
  {
   "metadata": {},
   "cell_type": "markdown",
   "source": "## Imports",
   "id": "a3bd2fac9922e9b"
  },
  {
   "metadata": {
    "ExecuteTime": {
     "end_time": "2024-10-25T04:42:47.295428Z",
     "start_time": "2024-10-25T04:42:46.481316Z"
    }
   },
   "cell_type": "code",
   "source": [
    "import os\n",
    "import cv2\n",
    "import json\n",
    "import pandas as pd"
   ],
   "id": "ea8fd990255b982b",
   "outputs": [],
   "execution_count": 10
  },
  {
   "metadata": {},
   "cell_type": "markdown",
   "source": "## Step 1: Load the video",
   "id": "fdea3196920f729c"
  },
  {
   "cell_type": "code",
   "id": "initial_id",
   "metadata": {
    "collapsed": true,
    "ExecuteTime": {
     "end_time": "2024-10-25T04:38:44.788704Z",
     "start_time": "2024-10-25T04:38:44.783460Z"
    }
   },
   "source": [
    "def load_video(video_name, folder_path=\"../../data/train_sample_videos\"):\n",
    "    video_path = os.path.join(folder_path, video_name)\n",
    "    if not os.path.exists(video_path):\n",
    "        raise FileNotFoundError(f\"Video {video_name} not found in {folder_path}\")\n",
    "\n",
    "    cap = cv2.VideoCapture(video_path)\n",
    "    if not cap.isOpened():\n",
    "        raise ValueError(f\"Could not open the video: {video_name}\")\n",
    "\n",
    "    print(f\"Successfully loaded video: {video_name}\")\n",
    "    return cap"
   ],
   "outputs": [],
   "execution_count": 8
  },
  {
   "metadata": {
    "ExecuteTime": {
     "end_time": "2024-10-25T04:38:46.435520Z",
     "start_time": "2024-10-25T04:38:46.280777Z"
    }
   },
   "cell_type": "code",
   "source": [
    "# Testing the function\n",
    "video_name = \"aagfhgtpmv.mp4\"  # Replace with an actual video filename in your folder\n",
    "cap = load_video(video_name)"
   ],
   "id": "adb5a41671a62a90",
   "outputs": [
    {
     "name": "stdout",
     "output_type": "stream",
     "text": [
      "Successfully loaded video: aagfhgtpmv.mp4\n"
     ]
    }
   ],
   "execution_count": 9
  }
 ],
 "metadata": {
  "kernelspec": {
   "display_name": "Python 3",
   "language": "python",
   "name": "python3"
  },
  "language_info": {
   "codemirror_mode": {
    "name": "ipython",
    "version": 2
   },
   "file_extension": ".py",
   "mimetype": "text/x-python",
   "name": "python",
   "nbconvert_exporter": "python",
   "pygments_lexer": "ipython2",
   "version": "2.7.6"
  }
 },
 "nbformat": 4,
 "nbformat_minor": 5
}
