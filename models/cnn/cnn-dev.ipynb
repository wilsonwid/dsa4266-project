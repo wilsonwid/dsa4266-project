{
 "cells": [
  {
   "metadata": {},
   "cell_type": "markdown",
   "source": "## Imports",
   "id": "a3bd2fac9922e9b"
  },
  {
   "metadata": {
    "ExecuteTime": {
     "end_time": "2024-10-26T03:24:08.332866Z",
     "start_time": "2024-10-26T03:23:50.648221Z"
    }
   },
   "cell_type": "code",
   "source": [
    "import os\n",
    "import cv2\n",
    "import json\n",
    "import pandas as pd\n",
    "import tensorflow as tf\n",
    "from tensorflow.keras.models import Sequential\n",
    "from tensorflow.keras.layers import Conv2D, MaxPooling2D, Flatten, Dense"
   ],
   "id": "ea8fd990255b982b",
   "outputs": [],
   "execution_count": 13
  },
  {
   "metadata": {},
   "cell_type": "markdown",
   "source": "## Step 1: Load the video",
   "id": "fdea3196920f729c"
  },
  {
   "cell_type": "code",
   "id": "initial_id",
   "metadata": {
    "collapsed": true,
    "ExecuteTime": {
     "end_time": "2024-10-26T02:58:53.488518Z",
     "start_time": "2024-10-26T02:58:53.477159Z"
    }
   },
   "source": [
    "def load_video(video_name, folder_path=\"../../data/train_sample_videos\"):\n",
    "    video_path = os.path.join(folder_path, video_name)\n",
    "    if not os.path.exists(video_path):\n",
    "        raise FileNotFoundError(f\"Video {video_name} not found in {folder_path}\")\n",
    "\n",
    "    cap = cv2.VideoCapture(video_path)\n",
    "    if not cap.isOpened():\n",
    "        raise ValueError(f\"Could not open the video: {video_name}\")\n",
    "\n",
    "    print(f\"Successfully loaded video: {video_name}\")\n",
    "    return cap"
   ],
   "outputs": [],
   "execution_count": 2
  },
  {
   "metadata": {
    "ExecuteTime": {
     "end_time": "2024-10-26T02:58:53.653717Z",
     "start_time": "2024-10-26T02:58:53.498163Z"
    }
   },
   "cell_type": "code",
   "source": [
    "# Testing the function\n",
    "video_name = \"aagfhgtpmv.mp4\"  # Replace with an actual video filename in your folder\n",
    "cap = load_video(video_name)"
   ],
   "id": "adb5a41671a62a90",
   "outputs": [
    {
     "name": "stdout",
     "output_type": "stream",
     "text": [
      "Successfully loaded video: aagfhgtpmv.mp4\n"
     ]
    }
   ],
   "execution_count": 3
  },
  {
   "metadata": {},
   "cell_type": "markdown",
   "source": "## Step 2: Convert video into pictures",
   "id": "e4ff641057750b0"
  },
  {
   "metadata": {
    "ExecuteTime": {
     "end_time": "2024-10-26T02:58:53.942468Z",
     "start_time": "2024-10-26T02:58:53.936236Z"
    }
   },
   "cell_type": "code",
   "source": [
    "def extract_frames(cap, frame_interval=1):\n",
    "    frames = []\n",
    "    frame_count = 0\n",
    "\n",
    "    while True:\n",
    "        ret, frame = cap.read()\n",
    "        if not ret:\n",
    "            break  # Exit if no more frames are available\n",
    "\n",
    "        if frame_count % frame_interval == 0:  # Check if the current frame should be extracted\n",
    "            # Resize frame to (224, 224) for CNN input\n",
    "            resized_frame = cv2.resize(frame, (224, 224)) / 255.0  # Normalize to [0, 1]\n",
    "            frames.append(resized_frame)\n",
    "\n",
    "        frame_count += 1\n",
    "\n",
    "    return frames"
   ],
   "id": "90019990db3a2b3b",
   "outputs": [],
   "execution_count": 4
  },
  {
   "metadata": {
    "ExecuteTime": {
     "end_time": "2024-10-26T02:58:55.491621Z",
     "start_time": "2024-10-26T02:58:53.954428Z"
    }
   },
   "cell_type": "code",
   "source": [
    "# Test usage\n",
    "video_name = \"aagfhgtpmv.mp4\"  # Replace with an actual video filename in your folder\n",
    "cap = load_video(video_name)\n",
    "frames = extract_frames(cap, frame_interval=5)  # Extract every 5th frame\n",
    "print(f\"Extracted {len(frames)} frames.\")"
   ],
   "id": "ddbb6cac4fc11828",
   "outputs": [
    {
     "name": "stdout",
     "output_type": "stream",
     "text": [
      "Successfully loaded video: aagfhgtpmv.mp4\n",
      "Extracted 60 frames.\n"
     ]
    }
   ],
   "execution_count": 5
  },
  {
   "metadata": {
    "ExecuteTime": {
     "end_time": "2024-10-26T02:58:55.505290Z",
     "start_time": "2024-10-26T02:58:55.500441Z"
    }
   },
   "cell_type": "code",
   "source": [
    "def save_frames(frames, output_folder=\"./extracted_frames\"):\n",
    "    # Create output folder if it doesn't exist\n",
    "    os.makedirs(output_folder, exist_ok=True)\n",
    "\n",
    "    for frame_count, frame in enumerate(frames):\n",
    "        # Save the frame as an image file\n",
    "        output_path = os.path.join(output_folder, f\"frame_{frame_count:04d}.jpg\")\n",
    "        cv2.imwrite(output_path, (frame * 255).astype('uint8'))  # Convert back to [0, 255] for saving\n",
    "\n",
    "    print(f\"Saved {len(frames)} frames to {output_folder}\")"
   ],
   "id": "79ee05fc2b8e1be1",
   "outputs": [],
   "execution_count": 6
  },
  {
   "metadata": {
    "ExecuteTime": {
     "end_time": "2024-10-26T02:58:55.647787Z",
     "start_time": "2024-10-26T02:58:55.511971Z"
    }
   },
   "cell_type": "code",
   "source": "# save_frames(frames)",
   "id": "80d2b27aae5f2bcf",
   "outputs": [
    {
     "name": "stdout",
     "output_type": "stream",
     "text": [
      "Saved 60 frames to ./extracted_frames\n"
     ]
    }
   ],
   "execution_count": 7
  },
  {
   "metadata": {},
   "cell_type": "markdown",
   "source": "## Step 3: Create dataset (train, test, val)",
   "id": "17a6a52495256e29"
  },
  {
   "metadata": {
    "ExecuteTime": {
     "end_time": "2024-10-26T02:58:55.665585Z",
     "start_time": "2024-10-26T02:58:55.654327Z"
    }
   },
   "cell_type": "code",
   "source": [
    "def create_datasets(base_dir=\"../../data\"):\n",
    "    train_data = []\n",
    "    val_data = []\n",
    "    test_data = []\n",
    "\n",
    "    # Define the folders and subfolders to iterate through\n",
    "    for folder in ['train', 'validation', 'test']:\n",
    "        for subfolder in ['real', 'deepfake']:\n",
    "            subfolder_path = os.path.join(base_dir, folder, subfolder)\n",
    "\n",
    "            # Check if the subfolder exists\n",
    "            if not os.path.exists(subfolder_path):\n",
    "                print(f\"Subfolder {subfolder_path} does not exist.\")\n",
    "                continue\n",
    "\n",
    "            # Loop through each file in the subfolder\n",
    "            for filename in os.listdir(subfolder_path):\n",
    "                if filename.endswith(('.mp4', '.avi', '.mov')):  # Add any other video formats if needed\n",
    "                    # Create a label based on the subfolder\n",
    "                    label = 1 if subfolder == 'deepfake' else 0\n",
    "                    # Append the file path and label to the appropriate dataset list\n",
    "                    if folder == 'train':\n",
    "                        train_data.append({\n",
    "                            'file_path': os.path.join(subfolder_path, filename),\n",
    "                            'label': label\n",
    "                        })\n",
    "                    elif folder == 'validation':\n",
    "                        val_data.append({\n",
    "                            'file_path': os.path.join(subfolder_path, filename),\n",
    "                            'label': label\n",
    "                        })\n",
    "                    elif folder == 'test':\n",
    "                        test_data.append({\n",
    "                            'file_path': os.path.join(subfolder_path, filename),\n",
    "                            'label': label\n",
    "                        })\n",
    "\n",
    "    # Create DataFrames from the collected data\n",
    "    train_df = pd.DataFrame(train_data)\n",
    "    val_df = pd.DataFrame(val_data)\n",
    "    test_df = pd.DataFrame(test_data)\n",
    "\n",
    "    return train_df, val_df, test_df"
   ],
   "id": "8e49979dbfe20a97",
   "outputs": [],
   "execution_count": 8
  },
  {
   "metadata": {
    "ExecuteTime": {
     "end_time": "2024-10-26T02:58:55.694865Z",
     "start_time": "2024-10-26T02:58:55.674183Z"
    }
   },
   "cell_type": "code",
   "source": "train_df, val_df, test_df = create_datasets()",
   "id": "eb6b26aa8ee32579",
   "outputs": [],
   "execution_count": 9
  },
  {
   "metadata": {
    "ExecuteTime": {
     "end_time": "2024-10-26T02:58:55.731823Z",
     "start_time": "2024-10-26T02:58:55.716915Z"
    }
   },
   "cell_type": "code",
   "source": "train_df",
   "id": "cc03990395dcbb31",
   "outputs": [
    {
     "data": {
      "text/plain": [
       "                                    file_path  label\n",
       "0        ../../data\\train\\real\\abarnvbtwb.mp4      0\n",
       "1        ../../data\\train\\real\\aelfnikyqj.mp4      0\n",
       "2        ../../data\\train\\real\\afoovlsmtx.mp4      0\n",
       "3        ../../data\\train\\real\\asaxgevnnp.mp4      0\n",
       "4        ../../data\\train\\real\\atvmxvwyns.mp4      0\n",
       "..                                        ...    ...\n",
       "257  ../../data\\train\\deepfake\\esckbnkkvb.mp4      1\n",
       "258  ../../data\\train\\deepfake\\esgftaficx.mp4      1\n",
       "259  ../../data\\train\\deepfake\\esxrvsgpvb.mp4      1\n",
       "260  ../../data\\train\\deepfake\\esyrimvzsa.mp4      1\n",
       "261  ../../data\\train\\deepfake\\etmcruaihe.mp4      1\n",
       "\n",
       "[262 rows x 2 columns]"
      ],
      "text/html": [
       "<div>\n",
       "<style scoped>\n",
       "    .dataframe tbody tr th:only-of-type {\n",
       "        vertical-align: middle;\n",
       "    }\n",
       "\n",
       "    .dataframe tbody tr th {\n",
       "        vertical-align: top;\n",
       "    }\n",
       "\n",
       "    .dataframe thead th {\n",
       "        text-align: right;\n",
       "    }\n",
       "</style>\n",
       "<table border=\"1\" class=\"dataframe\">\n",
       "  <thead>\n",
       "    <tr style=\"text-align: right;\">\n",
       "      <th></th>\n",
       "      <th>file_path</th>\n",
       "      <th>label</th>\n",
       "    </tr>\n",
       "  </thead>\n",
       "  <tbody>\n",
       "    <tr>\n",
       "      <th>0</th>\n",
       "      <td>../../data\\train\\real\\abarnvbtwb.mp4</td>\n",
       "      <td>0</td>\n",
       "    </tr>\n",
       "    <tr>\n",
       "      <th>1</th>\n",
       "      <td>../../data\\train\\real\\aelfnikyqj.mp4</td>\n",
       "      <td>0</td>\n",
       "    </tr>\n",
       "    <tr>\n",
       "      <th>2</th>\n",
       "      <td>../../data\\train\\real\\afoovlsmtx.mp4</td>\n",
       "      <td>0</td>\n",
       "    </tr>\n",
       "    <tr>\n",
       "      <th>3</th>\n",
       "      <td>../../data\\train\\real\\asaxgevnnp.mp4</td>\n",
       "      <td>0</td>\n",
       "    </tr>\n",
       "    <tr>\n",
       "      <th>4</th>\n",
       "      <td>../../data\\train\\real\\atvmxvwyns.mp4</td>\n",
       "      <td>0</td>\n",
       "    </tr>\n",
       "    <tr>\n",
       "      <th>...</th>\n",
       "      <td>...</td>\n",
       "      <td>...</td>\n",
       "    </tr>\n",
       "    <tr>\n",
       "      <th>257</th>\n",
       "      <td>../../data\\train\\deepfake\\esckbnkkvb.mp4</td>\n",
       "      <td>1</td>\n",
       "    </tr>\n",
       "    <tr>\n",
       "      <th>258</th>\n",
       "      <td>../../data\\train\\deepfake\\esgftaficx.mp4</td>\n",
       "      <td>1</td>\n",
       "    </tr>\n",
       "    <tr>\n",
       "      <th>259</th>\n",
       "      <td>../../data\\train\\deepfake\\esxrvsgpvb.mp4</td>\n",
       "      <td>1</td>\n",
       "    </tr>\n",
       "    <tr>\n",
       "      <th>260</th>\n",
       "      <td>../../data\\train\\deepfake\\esyrimvzsa.mp4</td>\n",
       "      <td>1</td>\n",
       "    </tr>\n",
       "    <tr>\n",
       "      <th>261</th>\n",
       "      <td>../../data\\train\\deepfake\\etmcruaihe.mp4</td>\n",
       "      <td>1</td>\n",
       "    </tr>\n",
       "  </tbody>\n",
       "</table>\n",
       "<p>262 rows × 2 columns</p>\n",
       "</div>"
      ]
     },
     "execution_count": 10,
     "metadata": {},
     "output_type": "execute_result"
    }
   ],
   "execution_count": 10
  },
  {
   "metadata": {},
   "cell_type": "markdown",
   "source": "## Step 4: Preprocessing",
   "id": "174d36c8ff24acbc"
  },
  {
   "metadata": {
    "ExecuteTime": {
     "end_time": "2024-10-26T03:22:49.902004Z",
     "start_time": "2024-10-26T03:22:49.897880Z"
    }
   },
   "cell_type": "code",
   "source": [
    "def preprocess_frame(frame, target_size=(224, 224)):\n",
    "    \"\"\"\n",
    "    Preprocesses a video frame for the CNN model.\n",
    "    \n",
    "    Args:\n",
    "        frame (np.ndarray): Original frame.\n",
    "        target_size (tuple): Desired frame size (height, width).\n",
    "\n",
    "    Returns:\n",
    "        np.ndarray: Preprocessed frame ready for the model.\n",
    "    \"\"\"\n",
    "    # Resize frame to the target size\n",
    "    frame = cv2.resize(frame, target_size)\n",
    "\n",
    "    # Normalize pixel values to range [0, 1]\n",
    "    frame = frame / 255.0\n",
    "\n",
    "    return frame"
   ],
   "id": "af3a59f700e7d638",
   "outputs": [],
   "execution_count": 11
  },
  {
   "metadata": {
    "ExecuteTime": {
     "end_time": "2024-10-26T03:23:17.057523Z",
     "start_time": "2024-10-26T03:23:16.994607Z"
    }
   },
   "cell_type": "code",
   "source": [
    "preprocessed_frames = [preprocess_frame(frame) for frame in frames]\n",
    "print(f\"Shape of first preprocessed frame: {preprocessed_frames[0].shape}\")"
   ],
   "id": "ea3ae968bd29117c",
   "outputs": [
    {
     "name": "stdout",
     "output_type": "stream",
     "text": [
      "Shape of first preprocessed frame: (224, 224, 3)\n"
     ]
    }
   ],
   "execution_count": 12
  },
  {
   "metadata": {},
   "cell_type": "markdown",
   "source": "## Step 5: Build CNN Model",
   "id": "1786ccc62327d250"
  },
  {
   "metadata": {
    "ExecuteTime": {
     "end_time": "2024-10-26T03:24:37.846271Z",
     "start_time": "2024-10-26T03:24:37.840803Z"
    }
   },
   "cell_type": "code",
   "source": [
    "def build_cnn_model(input_shape=(224, 224, 3)):\n",
    "    model = Sequential([\n",
    "        Conv2D(32, (3, 3), activation='relu', input_shape=input_shape),\n",
    "        MaxPooling2D((2, 2)),\n",
    "        Conv2D(64, (3, 3), activation='relu'),\n",
    "        MaxPooling2D((2, 2)),\n",
    "        Flatten(),\n",
    "        Dense(128, activation='relu'),\n",
    "        Dense(1, activation='sigmoid')  # Binary classification\n",
    "    ])\n",
    "    model.compile(optimizer='adam', loss='binary_crossentropy', metrics=['accuracy'])\n",
    "    return model"
   ],
   "id": "6e4a7a7b200c80aa",
   "outputs": [],
   "execution_count": 14
  }
 ],
 "metadata": {
  "kernelspec": {
   "display_name": "Python 3",
   "language": "python",
   "name": "python3"
  },
  "language_info": {
   "codemirror_mode": {
    "name": "ipython",
    "version": 2
   },
   "file_extension": ".py",
   "mimetype": "text/x-python",
   "name": "python",
   "nbconvert_exporter": "python",
   "pygments_lexer": "ipython2",
   "version": "2.7.6"
  }
 },
 "nbformat": 4,
 "nbformat_minor": 5
}
