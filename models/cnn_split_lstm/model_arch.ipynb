{
 "cells": [
  {
   "cell_type": "code",
   "execution_count": 1,
   "metadata": {},
   "outputs": [
    {
     "name": "stderr",
     "output_type": "stream",
     "text": [
      "2024-11-13 20:50:57.947373: I tensorflow/core/util/port.cc:153] oneDNN custom operations are on. You may see slightly different numerical results due to floating-point round-off errors from different computation orders. To turn them off, set the environment variable `TF_ENABLE_ONEDNN_OPTS=0`.\n",
      "2024-11-13 20:50:57.955104: E external/local_xla/xla/stream_executor/cuda/cuda_fft.cc:477] Unable to register cuFFT factory: Attempting to register factory for plugin cuFFT when one has already been registered\n",
      "WARNING: All log messages before absl::InitializeLog() is called are written to STDERR\n",
      "E0000 00:00:1731502257.964125    8054 cuda_dnn.cc:8310] Unable to register cuDNN factory: Attempting to register factory for plugin cuDNN when one has already been registered\n",
      "E0000 00:00:1731502257.966871    8054 cuda_blas.cc:1418] Unable to register cuBLAS factory: Attempting to register factory for plugin cuBLAS when one has already been registered\n",
      "2024-11-13 20:50:57.977108: I tensorflow/core/platform/cpu_feature_guard.cc:210] This TensorFlow binary is optimized to use available CPU instructions in performance-critical operations.\n",
      "To enable the following instructions: AVX2 AVX512F AVX512_VNNI AVX512_BF16 FMA, in other operations, rebuild TensorFlow with the appropriate compiler flags.\n"
     ]
    }
   ],
   "source": [
    "# Heavily adapted from https://pytorch.org/tutorials/beginner/introyt/trainingyt.html and https://pytorch.org/tutorials/beginner/hyperparameter_tuning_tutorial.html\n",
    "\n",
    "from re import L\n",
    "import sys\n",
    "import os\n",
    "main_folder_path = \"./\"\n",
    "sys.path.append(main_folder_path)\n",
    "import torch\n",
    "import torch.nn as nn\n",
    "import datetime as dt\n",
    "import argparse\n",
    "import subprocess\n",
    "import ray.cloudpickle as pickle\n",
    "import ray\n",
    "\n",
    "import numpy as np\n",
    "import tempfile\n",
    "import pandas as pd\n",
    "\n",
    "from ray import tune, train\n",
    "from utils.dataset import VideoDataset\n",
    "from ray.train import Checkpoint, get_checkpoint\n",
    "from ray.tune.schedulers import ASHAScheduler\n",
    "from models.cnn_split_lstm.cnn_split_lstm import CNN_Section, CNN_LSTM_Separate\n",
    "from torch.utils.data import DataLoader\n",
    "from torch.utils.tensorboard import SummaryWriter\n",
    "from tqdm import tqdm\n",
    "from sklearn.metrics import f1_score, accuracy_score\n",
    "from pathlib import Path\n",
    "from functools import partial\n",
    "from utils.types import NonlinearityEnum\n",
    "from torchvision.transforms import v2\n",
    "from torchvision.datasets import ImageFolder\n",
    "\n",
    "device = torch.device(\"cuda\" if torch.cuda.is_available() else \"cpu\")\n",
    "\n",
    "MODEL_NAME = \"cnn_split_lstm\"\n",
    "NOW = dt.datetime.now()\n",
    "FILENAME = f\"{NOW.strftime('%Y-%m-%d-%H-%M-%S')}\"\n",
    "SAVE_DIR = f\"{main_folder_path}/models/cnn_split_lstm/saved_models\"\n",
    "DATA_FOLDER = \"data\"\n",
    "INF = 100000000.\n",
    "NUM_WORKERS = 8\n",
    "NUM_CLASSES = 2\n",
    "GPUS_PER_TRIAL = torch.cuda.device_count() if torch.cuda.is_available() else 0\n",
    "\n",
    "timestamp = dt.datetime.now().strftime(\"%Y-%m-%d_%H-%M-%S\")\n",
    "writer = SummaryWriter(f\"runs/cnn_split_lstm_{timestamp}\")\n",
    "\n"
   ]
  },
  {
   "cell_type": "code",
   "execution_count": 2,
   "metadata": {},
   "outputs": [
    {
     "name": "stdout",
     "output_type": "stream",
     "text": [
      "25\n"
     ]
    },
    {
     "name": "stderr",
     "output_type": "stream",
     "text": [
      "2024-11-13 20:51:02,407\tINFO worker.py:1810 -- Started a local Ray instance. View the dashboard at \u001b[1m\u001b[32mhttp://127.0.0.1:8265 \u001b[39m\u001b[22m\n"
     ]
    }
   ],
   "source": [
    "cnn_search_space = {\n",
    "    \"input_channels\": 3,\n",
    "    \"num_cnn_layers\": 3,\n",
    "    \"num_start_kernels\": 16,\n",
    "    \"kernel_size\": 4,\n",
    "    \"stride\": 2,\n",
    "    \"padding\": 5,\n",
    "    \"dropout_prob\": 0.05,\n",
    "    \"bias\": False,\n",
    "    \"num_classes\": NUM_CLASSES,\n",
    "    \"input_shape\": (224, 224),\n",
    "    \"batch_size\": 64,\n",
    "    \"lr\": 0.00137748,\n",
    "    \"steps\": 120,\n",
    "    \"nonlinearity\": NonlinearityEnum.SILU,\n",
    "    \"include_additional_transforms\": False,\n",
    "}\n",
    "\n",
    "cur_model = CNN_Section(\n",
    "    input_channels=3,\n",
    "    num_cnn_layers=3, \n",
    "    num_start_kernels=16,\n",
    "    kernel_size=4,\n",
    "    stride=2,\n",
    "    padding=5,\n",
    "    dropout_prob=0.05,\n",
    "    bias=False,\n",
    "    num_classes=NUM_CLASSES,\n",
    "    input_shape=(224, 224),\n",
    "    nonlinearity=NonlinearityEnum.SILU,\n",
    "    train_alone=False\n",
    ")\n",
    "\n",
    "gpus_per_trial = GPUS_PER_TRIAL\n",
    "\n",
    "scheduler = ASHAScheduler(\n",
    "    time_attr=\"training_iteration\",\n",
    "    metric=\"val_acc\",\n",
    "    mode=\"max\",\n",
    "    max_t=10,\n",
    "    grace_period=1,\n",
    "    reduction_factor=2\n",
    ")\n",
    "directory = \"/home/wilsonwid/ray_results/train_cnn_model_2024-11-13_00-32-51/train_cnn_model_c2cf0_00002_2_dropout_prob=0.0500,kernel_size=4,lr=0.0001,nonlinearity=ref_ph_2fdecf16,num_cnn_layers=3,num_start__2024-11-13_00-32-51/checkpoint_000001\"\n",
    "\n",
    "with open(f\"{directory}/data.pkl\", \"rb\") as f:\n",
    "    checkpoint_data = pickle.load(f)\n",
    "    cur_model.load_state_dict(checkpoint_data[\"net_state_dict\"])\n",
    "\n",
    "lstm_search_space = {\n",
    "    \"num_lstm_layers\": 4,\n",
    "    \"hidden_size\": 8,\n",
    "    \"dropout_prob\": 0.2,\n",
    "    \"bidirectional\": False,\n",
    "    \"steps\": 128,\n",
    "    \"bias\": False,\n",
    "    \"num_classes\": NUM_CLASSES,\n",
    "    \"input_shape\": (224, 224),\n",
    "    \"batch_size\": 2,\n",
    "    \"lr\": 0.0008447175,\n",
    "    \"nonlinearity\": NonlinearityEnum.SILU,\n",
    "    \"include_additional_transforms\": False,\n",
    "}\n",
    "\n",
    "cur_model_id = ray.put(cur_model)\n",
    "\n",
    "best_trained_model = CNN_LSTM_Separate(\n",
    "    cnn_section=cur_model,\n",
    "    num_lstm_layers=lstm_search_space[\"num_lstm_layers\"],\n",
    "    hidden_size=lstm_search_space[\"hidden_size\"],\n",
    "    num_classes=NUM_CLASSES,\n",
    "    bidirectional=lstm_search_space[\"bidirectional\"],\n",
    "    steps=lstm_search_space[\"steps\"],\n",
    "    bias=False,\n",
    "    dropout_prob=lstm_search_space[\"dropout_prob\"],\n",
    "    nonlinearity=lstm_search_space[\"nonlinearity\"]\n",
    ")\n",
    "\n",
    "lstm_directory = \"/home/wilsonwid/ray_results/train_model_2024-11-13_17-11-29/train_model_44d73_00000_0_2024-11-13_17-11-29/checkpoint_000009\"\n",
    "\n",
    "with open(f\"{lstm_directory}/data.pkl\", \"rb\") as f:\n",
    "    checkpoint_data = pickle.load(f)\n",
    "    best_trained_model.load_state_dict(checkpoint_data[\"net_state_dict\"])"
   ]
  },
  {
   "cell_type": "code",
   "execution_count": 3,
   "metadata": {},
   "outputs": [],
   "source": [
    "from torchviz import make_dot"
   ]
  },
  {
   "cell_type": "code",
   "execution_count": 4,
   "metadata": {},
   "outputs": [],
   "source": [
    "torch_input = torch.randn(1, 128, 3, 224, 224)\n",
    "y = best_trained_model(torch_input)"
   ]
  },
  {
   "cell_type": "code",
   "execution_count": 5,
   "metadata": {},
   "outputs": [
    {
     "data": {
      "text/plain": [
       "'models/cnn_split_lstm/cnn_lstm_separate.png'"
      ]
     },
     "execution_count": 5,
     "metadata": {},
     "output_type": "execute_result"
    }
   ],
   "source": [
    "make_dot(y, params=dict(best_trained_model.named_parameters()), show_attrs=False, show_saved=False).render(\"models/cnn_split_lstm/cnn_lstm_separate\", format=\"png\")"
   ]
  },
  {
   "cell_type": "code",
   "execution_count": null,
   "metadata": {},
   "outputs": [],
   "source": []
  }
 ],
 "metadata": {
  "kernelspec": {
   "display_name": "dsa4266-project-RvivrvFB",
   "language": "python",
   "name": "python3"
  },
  "language_info": {
   "codemirror_mode": {
    "name": "ipython",
    "version": 3
   },
   "file_extension": ".py",
   "mimetype": "text/x-python",
   "name": "python",
   "nbconvert_exporter": "python",
   "pygments_lexer": "ipython3",
   "version": "3.11.8"
  }
 },
 "nbformat": 4,
 "nbformat_minor": 2
}
