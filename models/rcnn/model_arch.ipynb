{
 "cells": [
  {
   "cell_type": "code",
   "execution_count": 2,
   "metadata": {},
   "outputs": [
    {
     "name": "stderr",
     "output_type": "stream",
     "text": [
      "2024-11-13 21:20:31.332959: I tensorflow/core/util/port.cc:153] oneDNN custom operations are on. You may see slightly different numerical results due to floating-point round-off errors from different computation orders. To turn them off, set the environment variable `TF_ENABLE_ONEDNN_OPTS=0`.\n",
      "2024-11-13 21:20:31.340877: E external/local_xla/xla/stream_executor/cuda/cuda_fft.cc:477] Unable to register cuFFT factory: Attempting to register factory for plugin cuFFT when one has already been registered\n",
      "WARNING: All log messages before absl::InitializeLog() is called are written to STDERR\n",
      "E0000 00:00:1731504031.350324   16192 cuda_dnn.cc:8310] Unable to register cuDNN factory: Attempting to register factory for plugin cuDNN when one has already been registered\n",
      "E0000 00:00:1731504031.353149   16192 cuda_blas.cc:1418] Unable to register cuBLAS factory: Attempting to register factory for plugin cuBLAS when one has already been registered\n",
      "2024-11-13 21:20:31.363596: I tensorflow/core/platform/cpu_feature_guard.cc:210] This TensorFlow binary is optimized to use available CPU instructions in performance-critical operations.\n",
      "To enable the following instructions: AVX2 AVX512F AVX512_VNNI AVX512_BF16 FMA, in other operations, rebuild TensorFlow with the appropriate compiler flags.\n"
     ]
    }
   ],
   "source": [
    "# Heavily adapted from https://pytorch.org/tutorials/beginner/introyt/trainingyt.html and https://pytorch.org/tutorials/beginner/hyperparameter_tuning_tutorial.html\n",
    "\n",
    "import sys\n",
    "import os\n",
    "main_folder_path = \"./\" \n",
    "import torch\n",
    "import torch.nn as nn\n",
    "import datetime as dt\n",
    "import argparse\n",
    "import subprocess\n",
    "import ray.cloudpickle as pickle\n",
    "import numpy as np\n",
    "import tempfile\n",
    "import pandas as pd\n",
    "\n",
    "from utils.dataset import VideoDataset\n",
    "from ray import tune, train\n",
    "from ray.train import Checkpoint, get_checkpoint\n",
    "from ray.tune.schedulers import ASHAScheduler\n",
    "from models.rcnn.rcnn import RecurrentConvolutionalNetwork\n",
    "from torch.utils.data import DataLoader\n",
    "from torch.utils.tensorboard import SummaryWriter\n",
    "from tqdm import tqdm\n",
    "from sklearn.metrics import f1_score, accuracy_score\n",
    "from pathlib import Path\n",
    "from functools import partial\n",
    "from utils.types import NonlinearityEnum\n",
    "from torchvision.transforms import v2\n",
    "\n",
    "device = torch.device(\"cuda\" if torch.cuda.is_available() else \"cpu\")\n",
    "\n",
    "MODEL_NAME = \"rcnn\"\n",
    "NOW = dt.datetime.now()\n",
    "FILENAME = f\"{NOW.strftime('%Y-%m-%d-%H-%M-%S')}\"\n",
    "SAVE_DIR = f\"{main_folder_path}/models/rcnn/saved_models\"\n",
    "DATA_FOLDER = \"data\"\n",
    "INF = 100000000.\n",
    "NUM_WORKERS = 8\n",
    "NUM_CLASSES = 2\n",
    "GPUS_PER_TRIAL = torch.cuda.device_count() if torch.cuda.is_available() else 0\n",
    "\n",
    "timestamp = dt.datetime.now().strftime(\"%Y-%m-%d_%H-%M-%S\")"
   ]
  },
  {
   "cell_type": "code",
   "execution_count": 7,
   "metadata": {},
   "outputs": [],
   "source": [
    "search_space = {\n",
    "    \"input_channels\": 3,\n",
    "    \"num_recurrent_layers\": 2,\n",
    "    \"num_kernels\": 3,\n",
    "    \"kernel_size\": 9,\n",
    "    \"stride\": 1,\n",
    "    \"padding\": \"same\",\n",
    "    \"dropout_prob\": 0.185931,\n",
    "    \"nonlinearity\": NonlinearityEnum.ELU,\n",
    "    \"bias\": False,\n",
    "    \"steps\": 32,\n",
    "    \"num_classes\": NUM_CLASSES,\n",
    "    \"batch_size\": 2,\n",
    "    \"lr\": 0.0001236517,\n",
    "    \"include_additional_transforms\": False\n",
    "}"
   ]
  },
  {
   "cell_type": "code",
   "execution_count": 8,
   "metadata": {},
   "outputs": [],
   "source": [
    "\n",
    "best_trained_model = RecurrentConvolutionalNetwork(\n",
    "    input_channels=search_space[\"input_channels\"],\n",
    "    num_recurrent_layers=search_space[\"num_recurrent_layers\"],\n",
    "    num_kernels=search_space[\"num_kernels\"],\n",
    "    kernel_size=search_space[\"kernel_size\"],\n",
    "    stride=search_space[\"stride\"],\n",
    "    padding=search_space[\"padding\"],\n",
    "    dropout_prob=search_space[\"dropout_prob\"],\n",
    "    nonlinearity=search_space[\"nonlinearity\"],\n",
    "    bias=search_space[\"bias\"],\n",
    "    steps=search_space[\"steps\"],\n",
    "    num_classes=search_space[\"num_classes\"],\n",
    ")"
   ]
  },
  {
   "cell_type": "code",
   "execution_count": 6,
   "metadata": {},
   "outputs": [],
   "source": [
    "from torchviz import make_dot"
   ]
  },
  {
   "cell_type": "code",
   "execution_count": 9,
   "metadata": {},
   "outputs": [],
   "source": [
    "torch_input = torch.randn(1, 32, 3, 224, 224)\n",
    "y = best_trained_model(torch_input)"
   ]
  },
  {
   "cell_type": "code",
   "execution_count": null,
   "metadata": {},
   "outputs": [
    {
     "data": {
      "text/plain": [
       "'models/rcnn/rcnn_diagram.png'"
      ]
     },
     "execution_count": 11,
     "metadata": {},
     "output_type": "execute_result"
    }
   ],
   "source": [
    "make_dot(y, params=dict(best_trained_model.named_parameters()), show_attrs=False, show_saved=False).render(\"models/rcnn/diagrams/rcnn_diagram\", format=\"png\")"
   ]
  },
  {
   "cell_type": "code",
   "execution_count": null,
   "metadata": {},
   "outputs": [],
   "source": []
  }
 ],
 "metadata": {
  "kernelspec": {
   "display_name": "dsa4266-project-RvivrvFB",
   "language": "python",
   "name": "python3"
  },
  "language_info": {
   "codemirror_mode": {
    "name": "ipython",
    "version": 3
   },
   "file_extension": ".py",
   "mimetype": "text/x-python",
   "name": "python",
   "nbconvert_exporter": "python",
   "pygments_lexer": "ipython3",
   "version": "3.11.8"
  }
 },
 "nbformat": 4,
 "nbformat_minor": 2
}
