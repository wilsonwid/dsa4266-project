{
 "cells": [
  {
   "cell_type": "code",
   "execution_count": 7,
   "metadata": {},
   "outputs": [],
   "source": [
    "from math import ceil\n",
    "\n",
    "def get_padding(stride, kernel_size):\n",
    "    return ceil((223*stride - 224 + kernel_size)/2)\n",
    "\n",
    "def get_output_size(stride, padding, kernel_size):\n",
    "    return (224 + 2 * padding - kernel_size)//stride + 1"
   ]
  },
  {
   "cell_type": "code",
   "execution_count": 19,
   "metadata": {},
   "outputs": [
    {
     "data": {
      "text/plain": [
       "116"
      ]
     },
     "execution_count": 19,
     "metadata": {},
     "output_type": "execute_result"
    }
   ],
   "source": [
    "get_padding(2, 10)"
   ]
  },
  {
   "cell_type": "code",
   "execution_count": 16,
   "metadata": {},
   "outputs": [
    {
     "data": {
      "text/plain": [
       "224"
      ]
     },
     "execution_count": 16,
     "metadata": {},
     "output_type": "execute_result"
    }
   ],
   "source": [
    "get_output_size(4, get_padding(4, 4), 4)"
   ]
  },
  {
   "cell_type": "code",
   "execution_count": 29,
   "metadata": {},
   "outputs": [
    {
     "data": {
      "text/plain": [
       "223.0"
      ]
     },
     "execution_count": 29,
     "metadata": {},
     "output_type": "execute_result"
    }
   ],
   "source": [
    "(224 + 2 * 2.5 - 6)//1"
   ]
  },
  {
   "cell_type": "code",
   "execution_count": 22,
   "metadata": {},
   "outputs": [
    {
     "name": "stdout",
     "output_type": "stream",
     "text": [
      "3 1 1 224 True\n",
      "3 2 113 224 True\n",
      "6 1 3 225 False\n",
      "6 2 114 224 True\n",
      "9 1 4 224 True\n",
      "9 2 116 224 True\n",
      "12 1 6 225 False\n",
      "12 2 117 224 True\n",
      "15 1 7 224 True\n",
      "15 2 119 224 True\n",
      "18 1 9 225 False\n",
      "18 2 120 224 True\n",
      "21 1 10 224 True\n",
      "21 2 122 224 True\n",
      "24 1 12 225 False\n",
      "24 2 123 224 True\n",
      "27 1 13 224 True\n",
      "27 2 125 224 True\n",
      "30 1 15 225 False\n",
      "30 2 126 224 True\n"
     ]
    }
   ],
   "source": [
    "for k in range(1, 11):\n",
    "    k = 3*k\n",
    "    for stride in range(1, 3):\n",
    "        padding = get_padding(stride, k)\n",
    "        print(k, stride, padding, get_output_size(stride, padding, k), get_output_size(stride, padding, k) == 224)"
   ]
  },
  {
   "cell_type": "code",
   "execution_count": null,
   "metadata": {},
   "outputs": [],
   "source": []
  }
 ],
 "metadata": {
  "kernelspec": {
   "display_name": "dsa4266-project-sYVszK1j",
   "language": "python",
   "name": "python3"
  },
  "language_info": {
   "codemirror_mode": {
    "name": "ipython",
    "version": 3
   },
   "file_extension": ".py",
   "mimetype": "text/x-python",
   "name": "python",
   "nbconvert_exporter": "python",
   "pygments_lexer": "ipython3",
   "version": "3.11.9"
  }
 },
 "nbformat": 4,
 "nbformat_minor": 2
}
